{
 "cells": [
  {
   "cell_type": "markdown",
   "metadata": {
    "id": "jHaGyQftmIUT"
   },
   "source": [
    "## **Predicting Pitch Type**"
   ]
  },
  {
   "cell_type": "markdown",
   "metadata": {
    "id": "TWy5_FS5Fmxr"
   },
   "source": [
    "Importing packages to use"
   ]
  },
  {
   "cell_type": "code",
   "execution_count": 1,
   "metadata": {
    "id": "JoabFoLq9UO0"
   },
   "outputs": [],
   "source": [
    "import numpy as np\n",
    "import pandas as pd\n",
    "import seaborn as sns\n",
    "import datetime as dt\n",
    "import matplotlib.pyplot as plt\n",
    "from sklearn.ensemble import RandomForestClassifier\n",
    "from collections import Counter\n",
    "from sklearn.model_selection import train_test_split, GridSearchCV\n",
    "import xgboost as xgb\n",
    "from xgboost import XGBClassifier\n",
    "from sklearn.metrics import accuracy_score, roc_auc_score, precision_score, roc_curve\n",
    "from sklearn.preprocessing import OrdinalEncoder\n",
    "\n",
    "\n",
    "pd.options.display.max_columns = None\n",
    "pd.options.display.max_rows = None\n",
    "import warnings\n",
    "warnings.filterwarnings(\"ignore\")\n",
    "import re"
   ]
  },
  {
   "cell_type": "markdown",
   "metadata": {
    "id": "EkfK-QxyFrq2"
   },
   "source": [
    "Reading in the pitches data using the python engine"
   ]
  },
  {
   "cell_type": "code",
   "execution_count": 2,
   "metadata": {
    "id": "nvdx7NF9_68c"
   },
   "outputs": [],
   "source": [
    "data = pd.read_csv('/content/drive/MyDrive/Swish/pitches_folder/pitches', engine = 'python')"
   ]
  },
  {
   "cell_type": "markdown",
   "metadata": {
    "id": "mHJ9bMFoFwAQ"
   },
   "source": [
    "Checking the dimensions of the data to make sure no data was lost"
   ]
  },
  {
   "cell_type": "code",
   "execution_count": 3,
   "metadata": {
    "colab": {
     "base_uri": "https://localhost:8080/"
    },
    "id": "LEa0Ti36CV_3",
    "outputId": "a46cf6c7-9f57-4112-f36e-95748ab19be0"
   },
   "outputs": [
    {
     "data": {
      "text/plain": [
       "(718961, 125)"
      ]
     },
     "execution_count": 3,
     "metadata": {},
     "output_type": "execute_result"
    }
   ],
   "source": [
    "data.shape"
   ]
  },
  {
   "cell_type": "markdown",
   "metadata": {
    "id": "T15hAUBwH5cV"
   },
   "source": [
    "Looking at first couple of rows to see how the data looks"
   ]
  },
  {
   "cell_type": "code",
   "execution_count": 4,
   "metadata": {
    "colab": {
     "base_uri": "https://localhost:8080/",
     "height": 617
    },
    "id": "ugk16gEjHPhU",
    "outputId": "be390a46-c1da-45ec-d831-73753b319711"
   },
   "outputs": [
    {
     "data": {
      "text/html": [
       "\n",
       "  <div id=\"df-aa8441d6-f7e0-493b-8837-717729c9fe07\">\n",
       "    <div class=\"colab-df-container\">\n",
       "      <div>\n",
       "<style scoped>\n",
       "    .dataframe tbody tr th:only-of-type {\n",
       "        vertical-align: middle;\n",
       "    }\n",
       "\n",
       "    .dataframe tbody tr th {\n",
       "        vertical-align: top;\n",
       "    }\n",
       "\n",
       "    .dataframe thead th {\n",
       "        text-align: right;\n",
       "    }\n",
       "</style>\n",
       "<table border=\"1\" class=\"dataframe\">\n",
       "  <thead>\n",
       "    <tr style=\"text-align: right;\">\n",
       "      <th></th>\n",
       "      <th>uid</th>\n",
       "      <th>game_pk</th>\n",
       "      <th>year</th>\n",
       "      <th>date</th>\n",
       "      <th>team_id_b</th>\n",
       "      <th>team_id_p</th>\n",
       "      <th>inning</th>\n",
       "      <th>top</th>\n",
       "      <th>at_bat_num</th>\n",
       "      <th>pcount_at_bat</th>\n",
       "      <th>pcount_pitcher</th>\n",
       "      <th>balls</th>\n",
       "      <th>strikes</th>\n",
       "      <th>fouls</th>\n",
       "      <th>outs</th>\n",
       "      <th>is_final_pitch</th>\n",
       "      <th>final_balls</th>\n",
       "      <th>final_strikes</th>\n",
       "      <th>final_outs</th>\n",
       "      <th>start_tfs</th>\n",
       "      <th>start_tfs_zulu</th>\n",
       "      <th>batter_id</th>\n",
       "      <th>stand</th>\n",
       "      <th>b_height</th>\n",
       "      <th>pitcher_id</th>\n",
       "      <th>p_throws</th>\n",
       "      <th>at_bat_des</th>\n",
       "      <th>event</th>\n",
       "      <th>event2</th>\n",
       "      <th>event3</th>\n",
       "      <th>event4</th>\n",
       "      <th>away_team_runs</th>\n",
       "      <th>home_team_runs</th>\n",
       "      <th>score</th>\n",
       "      <th>pitch_des</th>\n",
       "      <th>pitch_id</th>\n",
       "      <th>type</th>\n",
       "      <th>pitch_tfs</th>\n",
       "      <th>pitch_tfs_zulu</th>\n",
       "      <th>x</th>\n",
       "      <th>y</th>\n",
       "      <th>sv_id</th>\n",
       "      <th>start_speed</th>\n",
       "      <th>end_speed</th>\n",
       "      <th>sz_top</th>\n",
       "      <th>sz_bot</th>\n",
       "      <th>pfx_x</th>\n",
       "      <th>pfx_z</th>\n",
       "      <th>px</th>\n",
       "      <th>pz</th>\n",
       "      <th>x0</th>\n",
       "      <th>z0</th>\n",
       "      <th>y0</th>\n",
       "      <th>vx0</th>\n",
       "      <th>vz0</th>\n",
       "      <th>vy0</th>\n",
       "      <th>ax</th>\n",
       "      <th>az</th>\n",
       "      <th>ay</th>\n",
       "      <th>break_length</th>\n",
       "      <th>break_y</th>\n",
       "      <th>break_angle</th>\n",
       "      <th>pitch_type</th>\n",
       "      <th>type_confidence</th>\n",
       "      <th>zone</th>\n",
       "      <th>nasty</th>\n",
       "      <th>spin_dir</th>\n",
       "      <th>spin_rate</th>\n",
       "      <th>cc</th>\n",
       "      <th>on_1b</th>\n",
       "      <th>on_2b</th>\n",
       "      <th>on_3b</th>\n",
       "      <th>runner1_id</th>\n",
       "      <th>runner1_start</th>\n",
       "      <th>runner1_end</th>\n",
       "      <th>runner1_event</th>\n",
       "      <th>runner1_score</th>\n",
       "      <th>runner1_rbi</th>\n",
       "      <th>runner1_earned</th>\n",
       "      <th>runner2_id</th>\n",
       "      <th>runner2_start</th>\n",
       "      <th>runner2_end</th>\n",
       "      <th>runner2_event</th>\n",
       "      <th>runner2_score</th>\n",
       "      <th>runner2_rbi</th>\n",
       "      <th>runner2_earned</th>\n",
       "      <th>runner3_id</th>\n",
       "      <th>runner3_start</th>\n",
       "      <th>runner3_end</th>\n",
       "      <th>runner3_event</th>\n",
       "      <th>runner3_score</th>\n",
       "      <th>runner3_rbi</th>\n",
       "      <th>runner3_earned</th>\n",
       "      <th>runner4_id</th>\n",
       "      <th>runner4_start</th>\n",
       "      <th>runner4_end</th>\n",
       "      <th>runner4_event</th>\n",
       "      <th>runner4_score</th>\n",
       "      <th>runner4_rbi</th>\n",
       "      <th>runner4_earned</th>\n",
       "      <th>runner5_id</th>\n",
       "      <th>runner5_start</th>\n",
       "      <th>runner5_end</th>\n",
       "      <th>runner5_event</th>\n",
       "      <th>runner5_score</th>\n",
       "      <th>runner5_rbi</th>\n",
       "      <th>runner5_earned</th>\n",
       "      <th>runner6_id</th>\n",
       "      <th>runner6_start</th>\n",
       "      <th>runner6_end</th>\n",
       "      <th>runner6_event</th>\n",
       "      <th>runner6_score</th>\n",
       "      <th>runner6_rbi</th>\n",
       "      <th>runner6_earned</th>\n",
       "      <th>runner7_id</th>\n",
       "      <th>runner7_start</th>\n",
       "      <th>runner7_end</th>\n",
       "      <th>runner7_event</th>\n",
       "      <th>runner7_score</th>\n",
       "      <th>runner7_rbi</th>\n",
       "      <th>runner7_earned</th>\n",
       "      <th>created_at</th>\n",
       "      <th>added_at</th>\n",
       "      <th>modified_at</th>\n",
       "      <th>modified_by</th>\n",
       "    </tr>\n",
       "  </thead>\n",
       "  <tbody>\n",
       "    <tr>\n",
       "      <th>0</th>\n",
       "      <td>14143226</td>\n",
       "      <td>286874</td>\n",
       "      <td>2011</td>\n",
       "      <td>2011-03-31</td>\n",
       "      <td>108</td>\n",
       "      <td>118</td>\n",
       "      <td>1</td>\n",
       "      <td>1</td>\n",
       "      <td>1</td>\n",
       "      <td>1</td>\n",
       "      <td>1</td>\n",
       "      <td>0</td>\n",
       "      <td>0</td>\n",
       "      <td>0</td>\n",
       "      <td>0</td>\n",
       "      <td>0</td>\n",
       "      <td>2</td>\n",
       "      <td>1</td>\n",
       "      <td>1</td>\n",
       "      <td>201226</td>\n",
       "      <td>2011-03-31 20:12:26</td>\n",
       "      <td>430895</td>\n",
       "      <td>L</td>\n",
       "      <td>5-8</td>\n",
       "      <td>460024</td>\n",
       "      <td>R</td>\n",
       "      <td>Maicer Izturis grounds out, second baseman Chr...</td>\n",
       "      <td>Groundout</td>\n",
       "      <td>NaN</td>\n",
       "      <td>NaN</td>\n",
       "      <td>NaN</td>\n",
       "      <td>0</td>\n",
       "      <td>0</td>\n",
       "      <td>NaN</td>\n",
       "      <td>Ball</td>\n",
       "      <td>3</td>\n",
       "      <td>B</td>\n",
       "      <td>201301.0</td>\n",
       "      <td>2011-03-31 20:13:01</td>\n",
       "      <td>105.58</td>\n",
       "      <td>180.46</td>\n",
       "      <td>NaN</td>\n",
       "      <td>NaN</td>\n",
       "      <td>NaN</td>\n",
       "      <td>NaN</td>\n",
       "      <td>NaN</td>\n",
       "      <td>NaN</td>\n",
       "      <td>NaN</td>\n",
       "      <td>NaN</td>\n",
       "      <td>NaN</td>\n",
       "      <td>NaN</td>\n",
       "      <td>NaN</td>\n",
       "      <td>NaN</td>\n",
       "      <td>NaN</td>\n",
       "      <td>NaN</td>\n",
       "      <td>NaN</td>\n",
       "      <td>NaN</td>\n",
       "      <td>NaN</td>\n",
       "      <td>NaN</td>\n",
       "      <td>NaN</td>\n",
       "      <td>NaN</td>\n",
       "      <td>NaN</td>\n",
       "      <td>NaN</td>\n",
       "      <td>NaN</td>\n",
       "      <td>NaN</td>\n",
       "      <td>NaN</td>\n",
       "      <td>NaN</td>\n",
       "      <td>NaN</td>\n",
       "      <td>NaN</td>\n",
       "      <td>NaN</td>\n",
       "      <td>NaN</td>\n",
       "      <td>NaN</td>\n",
       "      <td>NaN</td>\n",
       "      <td>NaN</td>\n",
       "      <td>NaN</td>\n",
       "      <td>NaN</td>\n",
       "      <td>NaN</td>\n",
       "      <td>NaN</td>\n",
       "      <td>NaN</td>\n",
       "      <td>NaN</td>\n",
       "      <td>NaN</td>\n",
       "      <td>NaN</td>\n",
       "      <td>NaN</td>\n",
       "      <td>NaN</td>\n",
       "      <td>NaN</td>\n",
       "      <td>NaN</td>\n",
       "      <td>NaN</td>\n",
       "      <td>NaN</td>\n",
       "      <td>NaN</td>\n",
       "      <td>NaN</td>\n",
       "      <td>NaN</td>\n",
       "      <td>NaN</td>\n",
       "      <td>NaN</td>\n",
       "      <td>NaN</td>\n",
       "      <td>NaN</td>\n",
       "      <td>NaN</td>\n",
       "      <td>NaN</td>\n",
       "      <td>NaN</td>\n",
       "      <td>NaN</td>\n",
       "      <td>NaN</td>\n",
       "      <td>NaN</td>\n",
       "      <td>NaN</td>\n",
       "      <td>NaN</td>\n",
       "      <td>NaN</td>\n",
       "      <td>NaN</td>\n",
       "      <td>NaN</td>\n",
       "      <td>NaN</td>\n",
       "      <td>NaN</td>\n",
       "      <td>NaN</td>\n",
       "      <td>NaN</td>\n",
       "      <td>NaN</td>\n",
       "      <td>NaN</td>\n",
       "      <td>NaN</td>\n",
       "      <td>NaN</td>\n",
       "      <td>NaN</td>\n",
       "      <td>NaN</td>\n",
       "      <td>NaN</td>\n",
       "      <td>NaN</td>\n",
       "      <td>NaN</td>\n",
       "      <td>NaN</td>\n",
       "      <td>NaN</td>\n",
       "      <td>2016-03-03 21:33:20</td>\n",
       "      <td>2016-03-03 21:33:20</td>\n",
       "      <td>2016-03-03 21:33:20</td>\n",
       "      <td>1</td>\n",
       "    </tr>\n",
       "    <tr>\n",
       "      <th>1</th>\n",
       "      <td>14143227</td>\n",
       "      <td>286874</td>\n",
       "      <td>2011</td>\n",
       "      <td>2011-03-31</td>\n",
       "      <td>108</td>\n",
       "      <td>118</td>\n",
       "      <td>1</td>\n",
       "      <td>1</td>\n",
       "      <td>1</td>\n",
       "      <td>2</td>\n",
       "      <td>2</td>\n",
       "      <td>1</td>\n",
       "      <td>0</td>\n",
       "      <td>0</td>\n",
       "      <td>0</td>\n",
       "      <td>0</td>\n",
       "      <td>2</td>\n",
       "      <td>1</td>\n",
       "      <td>1</td>\n",
       "      <td>201226</td>\n",
       "      <td>2011-03-31 20:12:26</td>\n",
       "      <td>430895</td>\n",
       "      <td>L</td>\n",
       "      <td>5-8</td>\n",
       "      <td>460024</td>\n",
       "      <td>R</td>\n",
       "      <td>Maicer Izturis grounds out, second baseman Chr...</td>\n",
       "      <td>Groundout</td>\n",
       "      <td>NaN</td>\n",
       "      <td>NaN</td>\n",
       "      <td>NaN</td>\n",
       "      <td>0</td>\n",
       "      <td>0</td>\n",
       "      <td>NaN</td>\n",
       "      <td>Ball</td>\n",
       "      <td>4</td>\n",
       "      <td>B</td>\n",
       "      <td>201319.0</td>\n",
       "      <td>2011-03-31 20:13:19</td>\n",
       "      <td>99.57</td>\n",
       "      <td>170.96</td>\n",
       "      <td>NaN</td>\n",
       "      <td>NaN</td>\n",
       "      <td>NaN</td>\n",
       "      <td>NaN</td>\n",
       "      <td>NaN</td>\n",
       "      <td>NaN</td>\n",
       "      <td>NaN</td>\n",
       "      <td>NaN</td>\n",
       "      <td>NaN</td>\n",
       "      <td>NaN</td>\n",
       "      <td>NaN</td>\n",
       "      <td>NaN</td>\n",
       "      <td>NaN</td>\n",
       "      <td>NaN</td>\n",
       "      <td>NaN</td>\n",
       "      <td>NaN</td>\n",
       "      <td>NaN</td>\n",
       "      <td>NaN</td>\n",
       "      <td>NaN</td>\n",
       "      <td>NaN</td>\n",
       "      <td>NaN</td>\n",
       "      <td>NaN</td>\n",
       "      <td>NaN</td>\n",
       "      <td>NaN</td>\n",
       "      <td>NaN</td>\n",
       "      <td>NaN</td>\n",
       "      <td>NaN</td>\n",
       "      <td>NaN</td>\n",
       "      <td>NaN</td>\n",
       "      <td>NaN</td>\n",
       "      <td>NaN</td>\n",
       "      <td>NaN</td>\n",
       "      <td>NaN</td>\n",
       "      <td>NaN</td>\n",
       "      <td>NaN</td>\n",
       "      <td>NaN</td>\n",
       "      <td>NaN</td>\n",
       "      <td>NaN</td>\n",
       "      <td>NaN</td>\n",
       "      <td>NaN</td>\n",
       "      <td>NaN</td>\n",
       "      <td>NaN</td>\n",
       "      <td>NaN</td>\n",
       "      <td>NaN</td>\n",
       "      <td>NaN</td>\n",
       "      <td>NaN</td>\n",
       "      <td>NaN</td>\n",
       "      <td>NaN</td>\n",
       "      <td>NaN</td>\n",
       "      <td>NaN</td>\n",
       "      <td>NaN</td>\n",
       "      <td>NaN</td>\n",
       "      <td>NaN</td>\n",
       "      <td>NaN</td>\n",
       "      <td>NaN</td>\n",
       "      <td>NaN</td>\n",
       "      <td>NaN</td>\n",
       "      <td>NaN</td>\n",
       "      <td>NaN</td>\n",
       "      <td>NaN</td>\n",
       "      <td>NaN</td>\n",
       "      <td>NaN</td>\n",
       "      <td>NaN</td>\n",
       "      <td>NaN</td>\n",
       "      <td>NaN</td>\n",
       "      <td>NaN</td>\n",
       "      <td>NaN</td>\n",
       "      <td>NaN</td>\n",
       "      <td>NaN</td>\n",
       "      <td>NaN</td>\n",
       "      <td>NaN</td>\n",
       "      <td>NaN</td>\n",
       "      <td>NaN</td>\n",
       "      <td>NaN</td>\n",
       "      <td>NaN</td>\n",
       "      <td>NaN</td>\n",
       "      <td>NaN</td>\n",
       "      <td>NaN</td>\n",
       "      <td>NaN</td>\n",
       "      <td>NaN</td>\n",
       "      <td>2016-03-03 21:33:20</td>\n",
       "      <td>2016-03-03 21:33:20</td>\n",
       "      <td>2016-03-03 21:33:20</td>\n",
       "      <td>1</td>\n",
       "    </tr>\n",
       "    <tr>\n",
       "      <th>2</th>\n",
       "      <td>14143228</td>\n",
       "      <td>286874</td>\n",
       "      <td>2011</td>\n",
       "      <td>2011-03-31</td>\n",
       "      <td>108</td>\n",
       "      <td>118</td>\n",
       "      <td>1</td>\n",
       "      <td>1</td>\n",
       "      <td>1</td>\n",
       "      <td>3</td>\n",
       "      <td>3</td>\n",
       "      <td>2</td>\n",
       "      <td>0</td>\n",
       "      <td>0</td>\n",
       "      <td>0</td>\n",
       "      <td>0</td>\n",
       "      <td>2</td>\n",
       "      <td>1</td>\n",
       "      <td>1</td>\n",
       "      <td>201226</td>\n",
       "      <td>2011-03-31 20:12:26</td>\n",
       "      <td>430895</td>\n",
       "      <td>L</td>\n",
       "      <td>5-8</td>\n",
       "      <td>460024</td>\n",
       "      <td>R</td>\n",
       "      <td>Maicer Izturis grounds out, second baseman Chr...</td>\n",
       "      <td>Groundout</td>\n",
       "      <td>NaN</td>\n",
       "      <td>NaN</td>\n",
       "      <td>NaN</td>\n",
       "      <td>0</td>\n",
       "      <td>0</td>\n",
       "      <td>NaN</td>\n",
       "      <td>Called Strike</td>\n",
       "      <td>5</td>\n",
       "      <td>S</td>\n",
       "      <td>201327.0</td>\n",
       "      <td>2011-03-31 20:13:27</td>\n",
       "      <td>95.28</td>\n",
       "      <td>152.83</td>\n",
       "      <td>NaN</td>\n",
       "      <td>NaN</td>\n",
       "      <td>NaN</td>\n",
       "      <td>NaN</td>\n",
       "      <td>NaN</td>\n",
       "      <td>NaN</td>\n",
       "      <td>NaN</td>\n",
       "      <td>NaN</td>\n",
       "      <td>NaN</td>\n",
       "      <td>NaN</td>\n",
       "      <td>NaN</td>\n",
       "      <td>NaN</td>\n",
       "      <td>NaN</td>\n",
       "      <td>NaN</td>\n",
       "      <td>NaN</td>\n",
       "      <td>NaN</td>\n",
       "      <td>NaN</td>\n",
       "      <td>NaN</td>\n",
       "      <td>NaN</td>\n",
       "      <td>NaN</td>\n",
       "      <td>NaN</td>\n",
       "      <td>NaN</td>\n",
       "      <td>NaN</td>\n",
       "      <td>NaN</td>\n",
       "      <td>NaN</td>\n",
       "      <td>NaN</td>\n",
       "      <td>NaN</td>\n",
       "      <td>NaN</td>\n",
       "      <td>NaN</td>\n",
       "      <td>NaN</td>\n",
       "      <td>NaN</td>\n",
       "      <td>NaN</td>\n",
       "      <td>NaN</td>\n",
       "      <td>NaN</td>\n",
       "      <td>NaN</td>\n",
       "      <td>NaN</td>\n",
       "      <td>NaN</td>\n",
       "      <td>NaN</td>\n",
       "      <td>NaN</td>\n",
       "      <td>NaN</td>\n",
       "      <td>NaN</td>\n",
       "      <td>NaN</td>\n",
       "      <td>NaN</td>\n",
       "      <td>NaN</td>\n",
       "      <td>NaN</td>\n",
       "      <td>NaN</td>\n",
       "      <td>NaN</td>\n",
       "      <td>NaN</td>\n",
       "      <td>NaN</td>\n",
       "      <td>NaN</td>\n",
       "      <td>NaN</td>\n",
       "      <td>NaN</td>\n",
       "      <td>NaN</td>\n",
       "      <td>NaN</td>\n",
       "      <td>NaN</td>\n",
       "      <td>NaN</td>\n",
       "      <td>NaN</td>\n",
       "      <td>NaN</td>\n",
       "      <td>NaN</td>\n",
       "      <td>NaN</td>\n",
       "      <td>NaN</td>\n",
       "      <td>NaN</td>\n",
       "      <td>NaN</td>\n",
       "      <td>NaN</td>\n",
       "      <td>NaN</td>\n",
       "      <td>NaN</td>\n",
       "      <td>NaN</td>\n",
       "      <td>NaN</td>\n",
       "      <td>NaN</td>\n",
       "      <td>NaN</td>\n",
       "      <td>NaN</td>\n",
       "      <td>NaN</td>\n",
       "      <td>NaN</td>\n",
       "      <td>NaN</td>\n",
       "      <td>NaN</td>\n",
       "      <td>NaN</td>\n",
       "      <td>NaN</td>\n",
       "      <td>NaN</td>\n",
       "      <td>NaN</td>\n",
       "      <td>NaN</td>\n",
       "      <td>2016-03-03 21:33:20</td>\n",
       "      <td>2016-03-03 21:33:20</td>\n",
       "      <td>2016-03-03 21:33:20</td>\n",
       "      <td>1</td>\n",
       "    </tr>\n",
       "    <tr>\n",
       "      <th>3</th>\n",
       "      <td>14143229</td>\n",
       "      <td>286874</td>\n",
       "      <td>2011</td>\n",
       "      <td>2011-03-31</td>\n",
       "      <td>108</td>\n",
       "      <td>118</td>\n",
       "      <td>1</td>\n",
       "      <td>1</td>\n",
       "      <td>1</td>\n",
       "      <td>4</td>\n",
       "      <td>4</td>\n",
       "      <td>2</td>\n",
       "      <td>1</td>\n",
       "      <td>0</td>\n",
       "      <td>0</td>\n",
       "      <td>1</td>\n",
       "      <td>2</td>\n",
       "      <td>1</td>\n",
       "      <td>1</td>\n",
       "      <td>201226</td>\n",
       "      <td>2011-03-31 20:12:26</td>\n",
       "      <td>430895</td>\n",
       "      <td>L</td>\n",
       "      <td>5-8</td>\n",
       "      <td>460024</td>\n",
       "      <td>R</td>\n",
       "      <td>Maicer Izturis grounds out, second baseman Chr...</td>\n",
       "      <td>Groundout</td>\n",
       "      <td>NaN</td>\n",
       "      <td>NaN</td>\n",
       "      <td>NaN</td>\n",
       "      <td>0</td>\n",
       "      <td>0</td>\n",
       "      <td>NaN</td>\n",
       "      <td>In play, out(s)</td>\n",
       "      <td>6</td>\n",
       "      <td>X</td>\n",
       "      <td>180441.0</td>\n",
       "      <td>2011-03-31 18:04:41</td>\n",
       "      <td>93.56</td>\n",
       "      <td>168.37</td>\n",
       "      <td>NaN</td>\n",
       "      <td>NaN</td>\n",
       "      <td>NaN</td>\n",
       "      <td>NaN</td>\n",
       "      <td>NaN</td>\n",
       "      <td>NaN</td>\n",
       "      <td>NaN</td>\n",
       "      <td>NaN</td>\n",
       "      <td>NaN</td>\n",
       "      <td>NaN</td>\n",
       "      <td>NaN</td>\n",
       "      <td>NaN</td>\n",
       "      <td>NaN</td>\n",
       "      <td>NaN</td>\n",
       "      <td>NaN</td>\n",
       "      <td>NaN</td>\n",
       "      <td>NaN</td>\n",
       "      <td>NaN</td>\n",
       "      <td>NaN</td>\n",
       "      <td>NaN</td>\n",
       "      <td>NaN</td>\n",
       "      <td>NaN</td>\n",
       "      <td>NaN</td>\n",
       "      <td>NaN</td>\n",
       "      <td>NaN</td>\n",
       "      <td>NaN</td>\n",
       "      <td>NaN</td>\n",
       "      <td>NaN</td>\n",
       "      <td>NaN</td>\n",
       "      <td>NaN</td>\n",
       "      <td>NaN</td>\n",
       "      <td>NaN</td>\n",
       "      <td>NaN</td>\n",
       "      <td>NaN</td>\n",
       "      <td>NaN</td>\n",
       "      <td>NaN</td>\n",
       "      <td>NaN</td>\n",
       "      <td>NaN</td>\n",
       "      <td>NaN</td>\n",
       "      <td>NaN</td>\n",
       "      <td>NaN</td>\n",
       "      <td>NaN</td>\n",
       "      <td>NaN</td>\n",
       "      <td>NaN</td>\n",
       "      <td>NaN</td>\n",
       "      <td>NaN</td>\n",
       "      <td>NaN</td>\n",
       "      <td>NaN</td>\n",
       "      <td>NaN</td>\n",
       "      <td>NaN</td>\n",
       "      <td>NaN</td>\n",
       "      <td>NaN</td>\n",
       "      <td>NaN</td>\n",
       "      <td>NaN</td>\n",
       "      <td>NaN</td>\n",
       "      <td>NaN</td>\n",
       "      <td>NaN</td>\n",
       "      <td>NaN</td>\n",
       "      <td>NaN</td>\n",
       "      <td>NaN</td>\n",
       "      <td>NaN</td>\n",
       "      <td>NaN</td>\n",
       "      <td>NaN</td>\n",
       "      <td>NaN</td>\n",
       "      <td>NaN</td>\n",
       "      <td>NaN</td>\n",
       "      <td>NaN</td>\n",
       "      <td>NaN</td>\n",
       "      <td>NaN</td>\n",
       "      <td>NaN</td>\n",
       "      <td>NaN</td>\n",
       "      <td>NaN</td>\n",
       "      <td>NaN</td>\n",
       "      <td>NaN</td>\n",
       "      <td>NaN</td>\n",
       "      <td>NaN</td>\n",
       "      <td>NaN</td>\n",
       "      <td>NaN</td>\n",
       "      <td>NaN</td>\n",
       "      <td>NaN</td>\n",
       "      <td>2016-03-03 21:33:20</td>\n",
       "      <td>2016-03-03 21:33:20</td>\n",
       "      <td>2016-03-03 21:33:20</td>\n",
       "      <td>1</td>\n",
       "    </tr>\n",
       "    <tr>\n",
       "      <th>4</th>\n",
       "      <td>14143230</td>\n",
       "      <td>286874</td>\n",
       "      <td>2011</td>\n",
       "      <td>2011-03-31</td>\n",
       "      <td>108</td>\n",
       "      <td>118</td>\n",
       "      <td>1</td>\n",
       "      <td>1</td>\n",
       "      <td>2</td>\n",
       "      <td>1</td>\n",
       "      <td>5</td>\n",
       "      <td>0</td>\n",
       "      <td>0</td>\n",
       "      <td>0</td>\n",
       "      <td>1</td>\n",
       "      <td>0</td>\n",
       "      <td>2</td>\n",
       "      <td>2</td>\n",
       "      <td>1</td>\n",
       "      <td>201354</td>\n",
       "      <td>2011-03-31 20:13:54</td>\n",
       "      <td>435062</td>\n",
       "      <td>R</td>\n",
       "      <td>5-10</td>\n",
       "      <td>460024</td>\n",
       "      <td>R</td>\n",
       "      <td>Howie Kendrick doubles (1) on a line drive to ...</td>\n",
       "      <td>Double</td>\n",
       "      <td>NaN</td>\n",
       "      <td>NaN</td>\n",
       "      <td>NaN</td>\n",
       "      <td>0</td>\n",
       "      <td>0</td>\n",
       "      <td>NaN</td>\n",
       "      <td>Called Strike</td>\n",
       "      <td>10</td>\n",
       "      <td>S</td>\n",
       "      <td>201404.0</td>\n",
       "      <td>2011-03-31 20:14:04</td>\n",
       "      <td>99.57</td>\n",
       "      <td>170.96</td>\n",
       "      <td>NaN</td>\n",
       "      <td>NaN</td>\n",
       "      <td>NaN</td>\n",
       "      <td>NaN</td>\n",
       "      <td>NaN</td>\n",
       "      <td>NaN</td>\n",
       "      <td>NaN</td>\n",
       "      <td>NaN</td>\n",
       "      <td>NaN</td>\n",
       "      <td>NaN</td>\n",
       "      <td>NaN</td>\n",
       "      <td>NaN</td>\n",
       "      <td>NaN</td>\n",
       "      <td>NaN</td>\n",
       "      <td>NaN</td>\n",
       "      <td>NaN</td>\n",
       "      <td>NaN</td>\n",
       "      <td>NaN</td>\n",
       "      <td>NaN</td>\n",
       "      <td>NaN</td>\n",
       "      <td>NaN</td>\n",
       "      <td>NaN</td>\n",
       "      <td>NaN</td>\n",
       "      <td>NaN</td>\n",
       "      <td>NaN</td>\n",
       "      <td>NaN</td>\n",
       "      <td>NaN</td>\n",
       "      <td>NaN</td>\n",
       "      <td>NaN</td>\n",
       "      <td>NaN</td>\n",
       "      <td>NaN</td>\n",
       "      <td>NaN</td>\n",
       "      <td>NaN</td>\n",
       "      <td>NaN</td>\n",
       "      <td>NaN</td>\n",
       "      <td>NaN</td>\n",
       "      <td>NaN</td>\n",
       "      <td>NaN</td>\n",
       "      <td>NaN</td>\n",
       "      <td>NaN</td>\n",
       "      <td>NaN</td>\n",
       "      <td>NaN</td>\n",
       "      <td>NaN</td>\n",
       "      <td>NaN</td>\n",
       "      <td>NaN</td>\n",
       "      <td>NaN</td>\n",
       "      <td>NaN</td>\n",
       "      <td>NaN</td>\n",
       "      <td>NaN</td>\n",
       "      <td>NaN</td>\n",
       "      <td>NaN</td>\n",
       "      <td>NaN</td>\n",
       "      <td>NaN</td>\n",
       "      <td>NaN</td>\n",
       "      <td>NaN</td>\n",
       "      <td>NaN</td>\n",
       "      <td>NaN</td>\n",
       "      <td>NaN</td>\n",
       "      <td>NaN</td>\n",
       "      <td>NaN</td>\n",
       "      <td>NaN</td>\n",
       "      <td>NaN</td>\n",
       "      <td>NaN</td>\n",
       "      <td>NaN</td>\n",
       "      <td>NaN</td>\n",
       "      <td>NaN</td>\n",
       "      <td>NaN</td>\n",
       "      <td>NaN</td>\n",
       "      <td>NaN</td>\n",
       "      <td>NaN</td>\n",
       "      <td>NaN</td>\n",
       "      <td>NaN</td>\n",
       "      <td>NaN</td>\n",
       "      <td>NaN</td>\n",
       "      <td>NaN</td>\n",
       "      <td>NaN</td>\n",
       "      <td>NaN</td>\n",
       "      <td>NaN</td>\n",
       "      <td>NaN</td>\n",
       "      <td>NaN</td>\n",
       "      <td>2016-03-03 21:33:20</td>\n",
       "      <td>2016-03-03 21:33:20</td>\n",
       "      <td>2016-03-03 21:33:20</td>\n",
       "      <td>1</td>\n",
       "    </tr>\n",
       "  </tbody>\n",
       "</table>\n",
       "</div>\n",
       "      <button class=\"colab-df-convert\" onclick=\"convertToInteractive('df-aa8441d6-f7e0-493b-8837-717729c9fe07')\"\n",
       "              title=\"Convert this dataframe to an interactive table.\"\n",
       "              style=\"display:none;\">\n",
       "        \n",
       "  <svg xmlns=\"http://www.w3.org/2000/svg\" height=\"24px\"viewBox=\"0 0 24 24\"\n",
       "       width=\"24px\">\n",
       "    <path d=\"M0 0h24v24H0V0z\" fill=\"none\"/>\n",
       "    <path d=\"M18.56 5.44l.94 2.06.94-2.06 2.06-.94-2.06-.94-.94-2.06-.94 2.06-2.06.94zm-11 1L8.5 8.5l.94-2.06 2.06-.94-2.06-.94L8.5 2.5l-.94 2.06-2.06.94zm10 10l.94 2.06.94-2.06 2.06-.94-2.06-.94-.94-2.06-.94 2.06-2.06.94z\"/><path d=\"M17.41 7.96l-1.37-1.37c-.4-.4-.92-.59-1.43-.59-.52 0-1.04.2-1.43.59L10.3 9.45l-7.72 7.72c-.78.78-.78 2.05 0 2.83L4 21.41c.39.39.9.59 1.41.59.51 0 1.02-.2 1.41-.59l7.78-7.78 2.81-2.81c.8-.78.8-2.07 0-2.86zM5.41 20L4 18.59l7.72-7.72 1.47 1.35L5.41 20z\"/>\n",
       "  </svg>\n",
       "      </button>\n",
       "      \n",
       "  <style>\n",
       "    .colab-df-container {\n",
       "      display:flex;\n",
       "      flex-wrap:wrap;\n",
       "      gap: 12px;\n",
       "    }\n",
       "\n",
       "    .colab-df-convert {\n",
       "      background-color: #E8F0FE;\n",
       "      border: none;\n",
       "      border-radius: 50%;\n",
       "      cursor: pointer;\n",
       "      display: none;\n",
       "      fill: #1967D2;\n",
       "      height: 32px;\n",
       "      padding: 0 0 0 0;\n",
       "      width: 32px;\n",
       "    }\n",
       "\n",
       "    .colab-df-convert:hover {\n",
       "      background-color: #E2EBFA;\n",
       "      box-shadow: 0px 1px 2px rgba(60, 64, 67, 0.3), 0px 1px 3px 1px rgba(60, 64, 67, 0.15);\n",
       "      fill: #174EA6;\n",
       "    }\n",
       "\n",
       "    [theme=dark] .colab-df-convert {\n",
       "      background-color: #3B4455;\n",
       "      fill: #D2E3FC;\n",
       "    }\n",
       "\n",
       "    [theme=dark] .colab-df-convert:hover {\n",
       "      background-color: #434B5C;\n",
       "      box-shadow: 0px 1px 3px 1px rgba(0, 0, 0, 0.15);\n",
       "      filter: drop-shadow(0px 1px 2px rgba(0, 0, 0, 0.3));\n",
       "      fill: #FFFFFF;\n",
       "    }\n",
       "  </style>\n",
       "\n",
       "      <script>\n",
       "        const buttonEl =\n",
       "          document.querySelector('#df-aa8441d6-f7e0-493b-8837-717729c9fe07 button.colab-df-convert');\n",
       "        buttonEl.style.display =\n",
       "          google.colab.kernel.accessAllowed ? 'block' : 'none';\n",
       "\n",
       "        async function convertToInteractive(key) {\n",
       "          const element = document.querySelector('#df-aa8441d6-f7e0-493b-8837-717729c9fe07');\n",
       "          const dataTable =\n",
       "            await google.colab.kernel.invokeFunction('convertToInteractive',\n",
       "                                                     [key], {});\n",
       "          if (!dataTable) return;\n",
       "\n",
       "          const docLinkHtml = 'Like what you see? Visit the ' +\n",
       "            '<a target=\"_blank\" href=https://colab.research.google.com/notebooks/data_table.ipynb>data table notebook</a>'\n",
       "            + ' to learn more about interactive tables.';\n",
       "          element.innerHTML = '';\n",
       "          dataTable['output_type'] = 'display_data';\n",
       "          await google.colab.output.renderOutput(dataTable, element);\n",
       "          const docLink = document.createElement('div');\n",
       "          docLink.innerHTML = docLinkHtml;\n",
       "          element.appendChild(docLink);\n",
       "        }\n",
       "      </script>\n",
       "    </div>\n",
       "  </div>\n",
       "  "
      ],
      "text/plain": [
       "        uid  game_pk  year        date  team_id_b  team_id_p  inning  top  \\\n",
       "0  14143226   286874  2011  2011-03-31        108        118       1    1   \n",
       "1  14143227   286874  2011  2011-03-31        108        118       1    1   \n",
       "2  14143228   286874  2011  2011-03-31        108        118       1    1   \n",
       "3  14143229   286874  2011  2011-03-31        108        118       1    1   \n",
       "4  14143230   286874  2011  2011-03-31        108        118       1    1   \n",
       "\n",
       "   at_bat_num  pcount_at_bat  pcount_pitcher  balls  strikes  fouls  outs  \\\n",
       "0           1              1               1      0        0      0     0   \n",
       "1           1              2               2      1        0      0     0   \n",
       "2           1              3               3      2        0      0     0   \n",
       "3           1              4               4      2        1      0     0   \n",
       "4           2              1               5      0        0      0     1   \n",
       "\n",
       "   is_final_pitch  final_balls  final_strikes  final_outs  start_tfs  \\\n",
       "0               0            2              1           1     201226   \n",
       "1               0            2              1           1     201226   \n",
       "2               0            2              1           1     201226   \n",
       "3               1            2              1           1     201226   \n",
       "4               0            2              2           1     201354   \n",
       "\n",
       "        start_tfs_zulu  batter_id stand b_height  pitcher_id p_throws  \\\n",
       "0  2011-03-31 20:12:26     430895     L      5-8      460024        R   \n",
       "1  2011-03-31 20:12:26     430895     L      5-8      460024        R   \n",
       "2  2011-03-31 20:12:26     430895     L      5-8      460024        R   \n",
       "3  2011-03-31 20:12:26     430895     L      5-8      460024        R   \n",
       "4  2011-03-31 20:13:54     435062     R     5-10      460024        R   \n",
       "\n",
       "                                          at_bat_des      event event2 event3  \\\n",
       "0  Maicer Izturis grounds out, second baseman Chr...  Groundout    NaN    NaN   \n",
       "1  Maicer Izturis grounds out, second baseman Chr...  Groundout    NaN    NaN   \n",
       "2  Maicer Izturis grounds out, second baseman Chr...  Groundout    NaN    NaN   \n",
       "3  Maicer Izturis grounds out, second baseman Chr...  Groundout    NaN    NaN   \n",
       "4  Howie Kendrick doubles (1) on a line drive to ...     Double    NaN    NaN   \n",
       "\n",
       "  event4  away_team_runs  home_team_runs score        pitch_des  pitch_id  \\\n",
       "0    NaN               0               0   NaN             Ball         3   \n",
       "1    NaN               0               0   NaN             Ball         4   \n",
       "2    NaN               0               0   NaN    Called Strike         5   \n",
       "3    NaN               0               0   NaN  In play, out(s)         6   \n",
       "4    NaN               0               0   NaN    Called Strike        10   \n",
       "\n",
       "  type  pitch_tfs       pitch_tfs_zulu       x       y sv_id  start_speed  \\\n",
       "0    B   201301.0  2011-03-31 20:13:01  105.58  180.46   NaN          NaN   \n",
       "1    B   201319.0  2011-03-31 20:13:19   99.57  170.96   NaN          NaN   \n",
       "2    S   201327.0  2011-03-31 20:13:27   95.28  152.83   NaN          NaN   \n",
       "3    X   180441.0  2011-03-31 18:04:41   93.56  168.37   NaN          NaN   \n",
       "4    S   201404.0  2011-03-31 20:14:04   99.57  170.96   NaN          NaN   \n",
       "\n",
       "   end_speed  sz_top  sz_bot  pfx_x  pfx_z  px  pz  x0  z0  y0  vx0  vz0  vy0  \\\n",
       "0        NaN     NaN     NaN    NaN    NaN NaN NaN NaN NaN NaN  NaN  NaN  NaN   \n",
       "1        NaN     NaN     NaN    NaN    NaN NaN NaN NaN NaN NaN  NaN  NaN  NaN   \n",
       "2        NaN     NaN     NaN    NaN    NaN NaN NaN NaN NaN NaN  NaN  NaN  NaN   \n",
       "3        NaN     NaN     NaN    NaN    NaN NaN NaN NaN NaN NaN  NaN  NaN  NaN   \n",
       "4        NaN     NaN     NaN    NaN    NaN NaN NaN NaN NaN NaN  NaN  NaN  NaN   \n",
       "\n",
       "   ax  az  ay  break_length  break_y  break_angle pitch_type  type_confidence  \\\n",
       "0 NaN NaN NaN           NaN      NaN          NaN        NaN              NaN   \n",
       "1 NaN NaN NaN           NaN      NaN          NaN        NaN              NaN   \n",
       "2 NaN NaN NaN           NaN      NaN          NaN        NaN              NaN   \n",
       "3 NaN NaN NaN           NaN      NaN          NaN        NaN              NaN   \n",
       "4 NaN NaN NaN           NaN      NaN          NaN        NaN              NaN   \n",
       "\n",
       "   zone  nasty  spin_dir  spin_rate   cc  on_1b  on_2b  on_3b  runner1_id  \\\n",
       "0   NaN    NaN       NaN        NaN  NaN    NaN    NaN    NaN         NaN   \n",
       "1   NaN    NaN       NaN        NaN  NaN    NaN    NaN    NaN         NaN   \n",
       "2   NaN    NaN       NaN        NaN  NaN    NaN    NaN    NaN         NaN   \n",
       "3   NaN    NaN       NaN        NaN  NaN    NaN    NaN    NaN         NaN   \n",
       "4   NaN    NaN       NaN        NaN  NaN    NaN    NaN    NaN         NaN   \n",
       "\n",
       "   runner1_start  runner1_end  runner1_event  runner1_score  runner1_rbi  \\\n",
       "0            NaN          NaN            NaN            NaN          NaN   \n",
       "1            NaN          NaN            NaN            NaN          NaN   \n",
       "2            NaN          NaN            NaN            NaN          NaN   \n",
       "3            NaN          NaN            NaN            NaN          NaN   \n",
       "4            NaN          NaN            NaN            NaN          NaN   \n",
       "\n",
       "   runner1_earned  runner2_id  runner2_start  runner2_end  runner2_event  \\\n",
       "0             NaN         NaN            NaN          NaN            NaN   \n",
       "1             NaN         NaN            NaN          NaN            NaN   \n",
       "2             NaN         NaN            NaN          NaN            NaN   \n",
       "3             NaN         NaN            NaN          NaN            NaN   \n",
       "4             NaN         NaN            NaN          NaN            NaN   \n",
       "\n",
       "   runner2_score  runner2_rbi  runner2_earned  runner3_id  runner3_start  \\\n",
       "0            NaN          NaN             NaN         NaN            NaN   \n",
       "1            NaN          NaN             NaN         NaN            NaN   \n",
       "2            NaN          NaN             NaN         NaN            NaN   \n",
       "3            NaN          NaN             NaN         NaN            NaN   \n",
       "4            NaN          NaN             NaN         NaN            NaN   \n",
       "\n",
       "   runner3_end  runner3_event  runner3_score  runner3_rbi  runner3_earned  \\\n",
       "0          NaN            NaN            NaN          NaN             NaN   \n",
       "1          NaN            NaN            NaN          NaN             NaN   \n",
       "2          NaN            NaN            NaN          NaN             NaN   \n",
       "3          NaN            NaN            NaN          NaN             NaN   \n",
       "4          NaN            NaN            NaN          NaN             NaN   \n",
       "\n",
       "   runner4_id  runner4_start  runner4_end  runner4_event  runner4_score  \\\n",
       "0         NaN            NaN          NaN            NaN            NaN   \n",
       "1         NaN            NaN          NaN            NaN            NaN   \n",
       "2         NaN            NaN          NaN            NaN            NaN   \n",
       "3         NaN            NaN          NaN            NaN            NaN   \n",
       "4         NaN            NaN          NaN            NaN            NaN   \n",
       "\n",
       "   runner4_rbi  runner4_earned  runner5_id  runner5_start  runner5_end  \\\n",
       "0          NaN             NaN         NaN            NaN          NaN   \n",
       "1          NaN             NaN         NaN            NaN          NaN   \n",
       "2          NaN             NaN         NaN            NaN          NaN   \n",
       "3          NaN             NaN         NaN            NaN          NaN   \n",
       "4          NaN             NaN         NaN            NaN          NaN   \n",
       "\n",
       "   runner5_event  runner5_score  runner5_rbi  runner5_earned  runner6_id  \\\n",
       "0            NaN            NaN          NaN             NaN         NaN   \n",
       "1            NaN            NaN          NaN             NaN         NaN   \n",
       "2            NaN            NaN          NaN             NaN         NaN   \n",
       "3            NaN            NaN          NaN             NaN         NaN   \n",
       "4            NaN            NaN          NaN             NaN         NaN   \n",
       "\n",
       "   runner6_start  runner6_end  runner6_event  runner6_score  runner6_rbi  \\\n",
       "0            NaN          NaN            NaN            NaN          NaN   \n",
       "1            NaN          NaN            NaN            NaN          NaN   \n",
       "2            NaN          NaN            NaN            NaN          NaN   \n",
       "3            NaN          NaN            NaN            NaN          NaN   \n",
       "4            NaN          NaN            NaN            NaN          NaN   \n",
       "\n",
       "   runner6_earned  runner7_id  runner7_start  runner7_end  runner7_event  \\\n",
       "0             NaN         NaN            NaN          NaN            NaN   \n",
       "1             NaN         NaN            NaN          NaN            NaN   \n",
       "2             NaN         NaN            NaN          NaN            NaN   \n",
       "3             NaN         NaN            NaN          NaN            NaN   \n",
       "4             NaN         NaN            NaN          NaN            NaN   \n",
       "\n",
       "   runner7_score  runner7_rbi  runner7_earned           created_at  \\\n",
       "0            NaN          NaN             NaN  2016-03-03 21:33:20   \n",
       "1            NaN          NaN             NaN  2016-03-03 21:33:20   \n",
       "2            NaN          NaN             NaN  2016-03-03 21:33:20   \n",
       "3            NaN          NaN             NaN  2016-03-03 21:33:20   \n",
       "4            NaN          NaN             NaN  2016-03-03 21:33:20   \n",
       "\n",
       "              added_at          modified_at  modified_by  \n",
       "0  2016-03-03 21:33:20  2016-03-03 21:33:20            1  \n",
       "1  2016-03-03 21:33:20  2016-03-03 21:33:20            1  \n",
       "2  2016-03-03 21:33:20  2016-03-03 21:33:20            1  \n",
       "3  2016-03-03 21:33:20  2016-03-03 21:33:20            1  \n",
       "4  2016-03-03 21:33:20  2016-03-03 21:33:20            1  "
      ]
     },
     "execution_count": 4,
     "metadata": {},
     "output_type": "execute_result"
    }
   ],
   "source": [
    "data.head()"
   ]
  },
  {
   "cell_type": "markdown",
   "metadata": {
    "id": "C7yVSYyVLQP_"
   },
   "source": [
    "When looking at the data I noticed that there were some pitch_types that were NA, so I'm going to remove those rows from the data since that's the target variable"
   ]
  },
  {
   "cell_type": "code",
   "execution_count": 5,
   "metadata": {
    "colab": {
     "base_uri": "https://localhost:8080/"
    },
    "id": "yTmP1uoq8sQj",
    "outputId": "fd4244f2-f496-4e50-c121-4bb5f62d7c50"
   },
   "outputs": [
    {
     "data": {
      "text/plain": [
       "uid                     0\n",
       "game_pk                 0\n",
       "year                    0\n",
       "date                    0\n",
       "team_id_b               0\n",
       "team_id_p               0\n",
       "inning                  0\n",
       "top                     0\n",
       "at_bat_num              0\n",
       "pcount_at_bat           0\n",
       "pcount_pitcher          0\n",
       "balls                   0\n",
       "strikes                 0\n",
       "fouls                   0\n",
       "outs                    0\n",
       "is_final_pitch          0\n",
       "final_balls             0\n",
       "final_strikes           0\n",
       "final_outs              0\n",
       "start_tfs               0\n",
       "start_tfs_zulu          0\n",
       "batter_id               0\n",
       "stand                   0\n",
       "b_height                0\n",
       "pitcher_id              0\n",
       "p_throws                0\n",
       "at_bat_des              0\n",
       "event                   0\n",
       "event2             710662\n",
       "event3             718627\n",
       "event4             718938\n",
       "away_team_runs          0\n",
       "home_team_runs          0\n",
       "score              662865\n",
       "pitch_des               0\n",
       "pitch_id                0\n",
       "type                    0\n",
       "pitch_tfs             302\n",
       "pitch_tfs_zulu        302\n",
       "x                       0\n",
       "y                       0\n",
       "sv_id                2280\n",
       "start_speed          2280\n",
       "end_speed            2280\n",
       "sz_top               2280\n",
       "sz_bot               2280\n",
       "pfx_x                2280\n",
       "pfx_z                2280\n",
       "px                   2280\n",
       "pz                   2280\n",
       "x0                   2280\n",
       "z0                   2280\n",
       "y0                   2280\n",
       "vx0                  2280\n",
       "vz0                  2280\n",
       "vy0                  2280\n",
       "ax                   2280\n",
       "az                   2280\n",
       "ay                   2280\n",
       "break_length         2280\n",
       "break_y              2280\n",
       "break_angle          2280\n",
       "pitch_type           2280\n",
       "type_confidence      2280\n",
       "zone                 2280\n",
       "nasty                2280\n",
       "spin_dir             2280\n",
       "spin_rate            2280\n",
       "cc                 691024\n",
       "on_1b              502638\n",
       "on_2b              579258\n",
       "on_3b              647326\n",
       "runner1_id         718961\n",
       "runner1_start      718961\n",
       "runner1_end        718961\n",
       "runner1_event      718961\n",
       "runner1_score      718961\n",
       "runner1_rbi        718961\n",
       "runner1_earned     718961\n",
       "runner2_id         718961\n",
       "runner2_start      718961\n",
       "runner2_end        718961\n",
       "runner2_event      718961\n",
       "runner2_score      718961\n",
       "runner2_rbi        718961\n",
       "runner2_earned     718961\n",
       "runner3_id         718961\n",
       "runner3_start      718961\n",
       "runner3_end        718961\n",
       "runner3_event      718961\n",
       "runner3_score      718961\n",
       "runner3_rbi        718961\n",
       "runner3_earned     718961\n",
       "runner4_id         718961\n",
       "runner4_start      718961\n",
       "runner4_end        718961\n",
       "runner4_event      718961\n",
       "runner4_score      718961\n",
       "runner4_rbi        718961\n",
       "runner4_earned     718961\n",
       "runner5_id         718961\n",
       "runner5_start      718961\n",
       "runner5_end        718961\n",
       "runner5_event      718961\n",
       "runner5_score      718961\n",
       "runner5_rbi        718961\n",
       "runner5_earned     718961\n",
       "runner6_id         718961\n",
       "runner6_start      718961\n",
       "runner6_end        718961\n",
       "runner6_event      718961\n",
       "runner6_score      718961\n",
       "runner6_rbi        718961\n",
       "runner6_earned     718961\n",
       "runner7_id         718961\n",
       "runner7_start      718961\n",
       "runner7_end        718961\n",
       "runner7_event      718961\n",
       "runner7_score      718961\n",
       "runner7_rbi        718961\n",
       "runner7_earned     718961\n",
       "created_at              0\n",
       "added_at                0\n",
       "modified_at             0\n",
       "modified_by             0\n",
       "dtype: int64"
      ]
     },
     "execution_count": 5,
     "metadata": {},
     "output_type": "execute_result"
    }
   ],
   "source": [
    "data.isna().sum()"
   ]
  },
  {
   "cell_type": "code",
   "execution_count": 6,
   "metadata": {
    "id": "Cf2RYcs7LdSE"
   },
   "outputs": [],
   "source": [
    "data_clean = data[~pd.isna(data['pitch_type'])]"
   ]
  },
  {
   "cell_type": "markdown",
   "metadata": {
    "id": "dTPG7CCRM_Uz"
   },
   "source": [
    "Checking dimensions of data without NA rows for pitch type"
   ]
  },
  {
   "cell_type": "code",
   "execution_count": 7,
   "metadata": {
    "colab": {
     "base_uri": "https://localhost:8080/"
    },
    "id": "_NXptwR1NOSX",
    "outputId": "397fe32b-968a-4513-f990-9cc2b52bdc8c"
   },
   "outputs": [
    {
     "data": {
      "text/plain": [
       "2280"
      ]
     },
     "execution_count": 7,
     "metadata": {},
     "output_type": "execute_result"
    }
   ],
   "source": [
    "data_clean.shape\n",
    "718961 - 716681\n",
    "#removed 2280 rows"
   ]
  },
  {
   "cell_type": "markdown",
   "metadata": {
    "id": "sOm2oHyXGKtZ"
   },
   "source": [
    "##**Pre-proccessing and EDA**\n",
    "\n"
   ]
  },
  {
   "cell_type": "markdown",
   "metadata": {
    "id": "9O_4SgKAQ7n5"
   },
   "source": [
    "Before looking at EDA I would like to begin with some feature engineering "
   ]
  },
  {
   "cell_type": "markdown",
   "metadata": {
    "id": "ArxGAT8HTz3U"
   },
   "source": [
    "First I'm going to make the data frame smaller to select only the columns that I'm going to use for the analysis that seem to be good predictors of pitch type"
   ]
  },
  {
   "cell_type": "markdown",
   "metadata": {
    "id": "M4r96QLUUVsV"
   },
   "source": [
    "The following columns were selected:\n",
    "\n",
    "*   Game ID and Pitcher ID\n",
    "*   Pitch Counts\n",
    "*   Pitch Type\n",
    "*   balls, strikes & fouls for an at-bat\n",
    "*   runners on base\n",
    "*   the inning\n",
    "*   height of hitter\n",
    "*   handedness of pitcher\n",
    "*   handedness of hitter\n",
    "*   zone of the pitch\n",
    "*   speed of pitch\n",
    "*   break length & angle\n",
    "*   ball, strike or in-play\n",
    "*   date of game\n",
    "\n"
   ]
  },
  {
   "cell_type": "code",
   "execution_count": 8,
   "metadata": {
    "id": "s0mJlyiHGPKe"
   },
   "outputs": [],
   "source": [
    "cols = ['game_pk', 'pitcher_id', 'pitch_type', 'inning', 'top', 'pcount_at_bat', 'pcount_pitcher', \n",
    "                    'balls', 'strikes', 'fouls', 'outs', 'on_1b', 'on_2b', 'on_3b', \n",
    "                    'b_height', 'p_throws', 'stand', 'type', 'vy0', 'break_length', 'break_angle',  'zone', 'date']\n",
    "pitch_data = data_clean[cols]"
   ]
  },
  {
   "cell_type": "markdown",
   "metadata": {
    "id": "d1W5wSEl-U3N"
   },
   "source": [
    "Looking at the different pitch types and their distribution in the data"
   ]
  },
  {
   "cell_type": "code",
   "execution_count": 9,
   "metadata": {
    "colab": {
     "base_uri": "https://localhost:8080/",
     "height": 477
    },
    "id": "63VI8phG-UKq",
    "outputId": "9e08695b-2682-46c8-9450-83c832ceb273"
   },
   "outputs": [
    {
     "data": {
      "text/plain": [
       "<Axes: title={'center': 'Bar Chart of Pitch Types'}>"
      ]
     },
     "execution_count": 9,
     "metadata": {},
     "output_type": "execute_result"
    },
    {
     "data": {
      "image/png": "[encoded data removed]",
      "text/plain": [
       "<Figure size 640x480 with 1 Axes>"
      ]
     },
     "metadata": {},
     "output_type": "display_data"
    }
   ],
   "source": [
    "pitchtype_counts = pitch_data['pitch_type'].value_counts()\n",
    "pitchtype_counts.plot(kind='bar', title='Bar Chart of Pitch Types')"
   ]
  },
  {
   "cell_type": "markdown",
   "metadata": {
    "id": "vsKvJaH--5do"
   },
   "source": [
    "I notice multiple types of fastballs so I will be encoding this later into one value \"fastball\" later."
   ]
  },
  {
   "cell_type": "markdown",
   "metadata": {
    "id": "Gu4b7FTQXnGR"
   },
   "source": [
    "Next, I'm going to extract the month from the data column, then drop the data column from the data"
   ]
  },
  {
   "cell_type": "code",
   "execution_count": 10,
   "metadata": {
    "id": "0FbZEG_qYouF"
   },
   "outputs": [],
   "source": [
    "pitch_data['month'] = pitch_data['date'].apply(lambda x: dt.datetime.strptime(x, '%Y-%m-%d').month)\n",
    "pitch_data.head()\n",
    "pitch_data.drop('date', axis=1, inplace=True)"
   ]
  },
  {
   "cell_type": "code",
   "execution_count": 11,
   "metadata": {
    "colab": {
     "base_uri": "https://localhost:8080/"
    },
    "id": "YkUlQmANHymU",
    "outputId": "29b94a48-8da9-4619-acbb-c9052a50b626"
   },
   "outputs": [
    {
     "data": {
      "text/plain": [
       "5     122146\n",
       "8     121887\n",
       "9     117093\n",
       "6     114961\n",
       "4     114350\n",
       "7     113972\n",
       "10     10494\n",
       "3       1778\n",
       "Name: month, dtype: int64"
      ]
     },
     "execution_count": 11,
     "metadata": {},
     "output_type": "execute_result"
    }
   ],
   "source": [
    "pitch_data['month'].value_counts()"
   ]
  },
  {
   "cell_type": "markdown",
   "metadata": {
    "id": "n1vQKqY_ajCs"
   },
   "source": [
    "Next, I'm converting the players on base to boolean since they are currently just a playerID"
   ]
  },
  {
   "cell_type": "code",
   "execution_count": 12,
   "metadata": {
    "id": "Jgx_5t1Eao6E"
   },
   "outputs": [],
   "source": [
    "pitch_data['on_1b'] = pitch_data['on_1b'].apply(lambda x: not np.isnan(x))\n",
    "pitch_data['on_2b'] = pitch_data['on_2b'].apply(lambda x: not np.isnan(x))\n",
    "pitch_data['on_3b'] = pitch_data['on_3b'].apply(lambda x: not np.isnan(x))"
   ]
  },
  {
   "cell_type": "markdown",
   "metadata": {
    "id": "E6aEN7hma1Re"
   },
   "source": [
    "Next, I'm creating a variable to see if the batter is batting from the same side the pitcher is pitching from"
   ]
  },
  {
   "cell_type": "code",
   "execution_count": 13,
   "metadata": {
    "id": "zWiqX83ta0s7"
   },
   "outputs": [],
   "source": [
    "pitch_data['stand_pitch_same_side'] = pitch_data['p_throws'] == pitch_data['stand'] \n",
    "pitch_data.drop(['p_throws', 'stand'], axis=1, inplace=True)"
   ]
  },
  {
   "cell_type": "markdown",
   "metadata": {
    "id": "tw2DjJBlbmTa"
   },
   "source": [
    "Next, I'm creating a unique ID to help with a groupby, to know if the pitcher is pitching in the same game"
   ]
  },
  {
   "cell_type": "code",
   "execution_count": 14,
   "metadata": {
    "id": "7IKcN2rfbnCd"
   },
   "outputs": [],
   "source": [
    "pitch_data['game_pitcher_id'] = pitch_data['game_pk'].astype(str) + '_' + pitch_data['pitcher_id'].astype(str)\n",
    "pitch_data.drop('game_pk', axis=1, inplace=True)"
   ]
  },
  {
   "cell_type": "markdown",
   "metadata": {
    "id": "ArQ3OL4Sb6yD"
   },
   "source": [
    "Next I'm creating a previous pitch type column"
   ]
  },
  {
   "cell_type": "code",
   "execution_count": 15,
   "metadata": {
    "id": "6-PYL-HNb7VP"
   },
   "outputs": [],
   "source": [
    " pitch_data['prev_pitch_type'] = pitch_data.groupby('game_pitcher_id')['pitch_type'].apply(lambda x: x.shift(1))"
   ]
  },
  {
   "cell_type": "markdown",
   "metadata": {
    "id": "NjPgFclhcR33"
   },
   "source": [
    "Next I'm creating a previous pitch outcome column"
   ]
  },
  {
   "cell_type": "code",
   "execution_count": 16,
   "metadata": {
    "id": "5jmXuOr2cW6T"
   },
   "outputs": [],
   "source": [
    "pitch_data['prev_pitch_outcome'] = pitch_data.groupby('game_pitcher_id')['type'].apply(lambda x: x.shift(1))\n",
    "pitch_data.drop('type', axis=1, inplace=True)"
   ]
  },
  {
   "cell_type": "markdown",
   "metadata": {
    "id": "F8LYViY9fZzd"
   },
   "source": [
    "Verifying that the code is working correctly"
   ]
  },
  {
   "cell_type": "code",
   "execution_count": 17,
   "metadata": {
    "id": "o582aJ-Lcm7F"
   },
   "outputs": [],
   "source": [
    "test = pitch_data[(pitch_data.pitcher_id == 450308)]\n",
    "#test.head(n=150)\n",
    "#Code looks good"
   ]
  },
  {
   "cell_type": "markdown",
   "metadata": {
    "id": "AW0LRu5hcK9X"
   },
   "source": [
    "Getting previous zone position"
   ]
  },
  {
   "cell_type": "code",
   "execution_count": 18,
   "metadata": {
    "id": "9qfTvps5fmwg"
   },
   "outputs": [],
   "source": [
    "pitch_data['prev_zone'] = pitch_data.groupby('game_pitcher_id')['zone'].apply(lambda x: x.shift(1))\n",
    "pitch_data.drop('zone', axis=1, inplace=True)"
   ]
  },
  {
   "cell_type": "markdown",
   "metadata": {
    "id": "uQ4jm_Rffu7C"
   },
   "source": [
    "Getting previous break length"
   ]
  },
  {
   "cell_type": "code",
   "execution_count": 19,
   "metadata": {
    "id": "KbzpV5lCfzrU"
   },
   "outputs": [],
   "source": [
    "pitch_data['prev_break_length'] = pitch_data.groupby('game_pitcher_id')['break_length'].apply(lambda x: x.shift(1))\n",
    "pitch_data.drop('break_length', axis=1, inplace=True)"
   ]
  },
  {
   "cell_type": "markdown",
   "metadata": {
    "id": "vjHtY2vIf5JH"
   },
   "source": [
    "Getting previous break angle"
   ]
  },
  {
   "cell_type": "code",
   "execution_count": 20,
   "metadata": {
    "id": "ZV9hjkvef-Xd"
   },
   "outputs": [],
   "source": [
    "pitch_data['prev_break_angle'] = pitch_data.groupby('game_pitcher_id')['break_angle'].apply(lambda x: x.shift(1))\n",
    "pitch_data.drop('break_angle', axis=1, inplace=True)"
   ]
  },
  {
   "cell_type": "markdown",
   "metadata": {
    "id": "DlypLlGogEAv"
   },
   "source": [
    "Getting previous pitch velocity"
   ]
  },
  {
   "cell_type": "code",
   "execution_count": 21,
   "metadata": {
    "id": "G-K7pH_zgPHZ"
   },
   "outputs": [],
   "source": [
    "pitch_data['prev_pitch_velocity'] = pitch_data.groupby('game_pitcher_id')['vy0'].apply(lambda x: x.shift(1))\n",
    "pitch_data.drop('vy0', axis=1, inplace=True)"
   ]
  },
  {
   "cell_type": "markdown",
   "metadata": {
    "id": "QkzuA8GPgY4q"
   },
   "source": [
    "Filling NA's from previous columns with unknown character \"UN\""
   ]
  },
  {
   "cell_type": "code",
   "execution_count": 22,
   "metadata": {
    "id": "US1ryXosh3YE"
   },
   "outputs": [],
   "source": [
    "pitch_data['prev_pitch_type'].fillna('UN', inplace=True)\n",
    "pitch_data['prev_pitch_outcome'].fillna('UN', inplace=True)"
   ]
  },
  {
   "cell_type": "markdown",
   "metadata": {
    "id": "-W6gUReqi7zv"
   },
   "source": [
    "Going to drop pitch types with any uknown pitches, pitchouts or ab's\n",
    "\n",
    "---\n",
    "\n"
   ]
  },
  {
   "cell_type": "code",
   "execution_count": 23,
   "metadata": {
    "id": "4UMR8Wa9iyru"
   },
   "outputs": [],
   "source": [
    "pitchout_unknown_pitches = ['PO', 'FO', 'UN', 'XX', 'IN','AB']\n",
    "pitch_data = pitch_data[~pitch_data['pitch_type'].isin(pitchout_unknown_pitches)]\n",
    "pitch_data = pitch_data[~pitch_data['prev_pitch_type'].isin(pitchout_unknown_pitches)]"
   ]
  },
  {
   "cell_type": "code",
   "execution_count": 24,
   "metadata": {
    "colab": {
     "base_uri": "https://localhost:8080/"
    },
    "id": "pzmFOFfTqKIJ",
    "outputId": "281881ce-5803-4b8b-e3e2-221f1b0fa695"
   },
   "outputs": [
    {
     "data": {
      "text/plain": [
       "array(['S', 'B', 'X'], dtype=object)"
      ]
     },
     "execution_count": 24,
     "metadata": {},
     "output_type": "execute_result"
    }
   ],
   "source": [
    "pitch_data.prev_pitch_outcome.unique()\n",
    "#no UN variables"
   ]
  },
  {
   "cell_type": "markdown",
   "metadata": {
    "id": "1_oPCwcB441s"
   },
   "source": [
    "Creating a fastball feature that takes all the fastball types and making it into one"
   ]
  },
  {
   "cell_type": "code",
   "execution_count": 25,
   "metadata": {
    "id": "goi8pNF04-p0"
   },
   "outputs": [],
   "source": [
    "fastball_pitches = ['FA', 'FF', 'FT', 'FC', 'FS', 'SI', 'SF']\n",
    "#####\n",
    "def fastballs(x):\n",
    "        if x in fastball_pitches:\n",
    "            return 'FB'\n",
    "        else:\n",
    "            return x\n",
    "#####\n",
    "pitch_data['pitch_type'] = pitch_data['pitch_type'].apply(fastballs)\n",
    "pitch_data['prev_pitch_type'] = pitch_data['prev_pitch_type'].apply(fastballs)\n"
   ]
  },
  {
   "cell_type": "markdown",
   "metadata": {
    "id": "bX5e_3MF7Trj"
   },
   "source": [
    "Making previous pitch outcomes into integers, Ball = 0, Strike = 1, and in-play = 2"
   ]
  },
  {
   "cell_type": "code",
   "execution_count": 26,
   "metadata": {
    "id": "N9_TfVtE5R0b"
   },
   "outputs": [],
   "source": [
    "def pitch_outcome(x):\n",
    "        if x == 'B':\n",
    "            return 0\n",
    "        elif x == 'S':\n",
    "            return 1\n",
    "        else:\n",
    "            return 2\n",
    "pitch_data['prev_pitch_outcome'] = pitch_data['prev_pitch_outcome'].apply(pitch_outcome)"
   ]
  },
  {
   "cell_type": "markdown",
   "metadata": {
    "id": "lU4UgCz38D9L"
   },
   "source": [
    "Making height into inches"
   ]
  },
  {
   "cell_type": "code",
   "execution_count": 27,
   "metadata": {
    "id": "N8Xt9VpZ8GBZ"
   },
   "outputs": [],
   "source": [
    "def convert_feet_inches_to_inches(height_string):\n",
    "  match = re.match(r\"(\\d+)-(\\d+)\", height_string)\n",
    "  if not match:\n",
    "    raise ValueError(\"Invalid height string: {}\".format(height_string))\n",
    "\n",
    "  feet = int(match.group(1))\n",
    "  inches = int(match.group(2))\n",
    "\n",
    "  return feet * 12 + inches\n",
    "\n",
    "pitch_data['batter_height'] = pitch_data['b_height'].apply(convert_feet_inches_to_inches)\n",
    "pitch_data.drop('b_height', axis=1, inplace=True)"
   ]
  },
  {
   "cell_type": "markdown",
   "metadata": {
    "id": "uWay0IpaECSh"
   },
   "source": [
    "Making sure distribution of heights looks normal"
   ]
  },
  {
   "cell_type": "code",
   "execution_count": 28,
   "metadata": {
    "colab": {
     "base_uri": "https://localhost:8080/",
     "height": 430
    },
    "id": "JsONyxmJEFYE",
    "outputId": "66e8c015-43b0-451a-87ff-11b5a2bd4e60"
   },
   "outputs": [
    {
     "data": {
      "image/png": "[encoded data removed]",
      "text/plain": [
       "<Figure size 640x480 with 1 Axes>"
      ]
     },
     "metadata": {},
     "output_type": "display_data"
    }
   ],
   "source": [
    "pitch_data['batter_height'].hist()\n",
    "plt.show()"
   ]
  },
  {
   "cell_type": "code",
   "execution_count": 29,
   "metadata": {
    "colab": {
     "base_uri": "https://localhost:8080/"
    },
    "id": "j1aBomh7GLah",
    "outputId": "2ff89fba-f2ac-414b-ac1a-c2a7d27412a0"
   },
   "outputs": [
    {
     "data": {
      "text/plain": [
       "74    130340\n",
       "72    115003\n",
       "73    107743\n",
       "75     79412\n",
       "71     64962\n",
       "70     61197\n",
       "76     54380\n",
       "69     28530\n",
       "77     23413\n",
       "68     13808\n",
       "78     10220\n",
       "66       818\n",
       "79       575\n",
       "80       227\n",
       "65        51\n",
       "67        45\n",
       "82        40\n",
       "81        13\n",
       "Name: batter_height, dtype: int64"
      ]
     },
     "execution_count": 29,
     "metadata": {},
     "output_type": "execute_result"
    }
   ],
   "source": [
    "pitch_data['batter_height'].value_counts()"
   ]
  },
  {
   "cell_type": "markdown",
   "metadata": {
    "id": "GK6tMPLk_lsr"
   },
   "source": [
    "Given that the shortest player in the 2011 season was Jose Altuve at 66 inches, I'm going to remove all observations below that. I'm also going to remove observations of batters taller than 80 inches since there are significantly less at bats for those players."
   ]
  },
  {
   "cell_type": "code",
   "execution_count": 30,
   "metadata": {
    "colab": {
     "base_uri": "https://localhost:8080/"
    },
    "id": "ABi4P-bYKeyw",
    "outputId": "5ac999a6-282f-45c8-ded3-21f5e14235db"
   },
   "outputs": [
    {
     "data": {
      "text/plain": [
       "(690777, 23)"
      ]
     },
     "execution_count": 30,
     "metadata": {},
     "output_type": "execute_result"
    }
   ],
   "source": [
    "pitch_data.shape"
   ]
  },
  {
   "cell_type": "code",
   "execution_count": 31,
   "metadata": {
    "id": "Ht2aumStKjv2"
   },
   "outputs": [],
   "source": [
    "pitch_data = pitch_data[pitch_data['batter_height'] > 65] "
   ]
  },
  {
   "cell_type": "code",
   "execution_count": 32,
   "metadata": {
    "id": "HzFyMKd7Mdhp"
   },
   "outputs": [],
   "source": [
    "pitch_data = pitch_data[pitch_data['batter_height'] < 81] "
   ]
  },
  {
   "cell_type": "code",
   "execution_count": 33,
   "metadata": {
    "colab": {
     "base_uri": "https://localhost:8080/"
    },
    "id": "QEBqk4EKLaTA",
    "outputId": "d90ce525-5675-43f2-c6fa-4a84ab8abb4a"
   },
   "outputs": [
    {
     "data": {
      "text/plain": [
       "(690673, 23)"
      ]
     },
     "execution_count": 33,
     "metadata": {},
     "output_type": "execute_result"
    }
   ],
   "source": [
    "pitch_data.shape"
   ]
  },
  {
   "cell_type": "code",
   "execution_count": 34,
   "metadata": {
    "colab": {
     "base_uri": "https://localhost:8080/"
    },
    "id": "AEbQwAGSLeGy",
    "outputId": "7a786e4e-6236-481c-879c-70f60add2079"
   },
   "outputs": [
    {
     "data": {
      "text/plain": [
       "74    130340\n",
       "72    115003\n",
       "73    107743\n",
       "75     79412\n",
       "71     64962\n",
       "70     61197\n",
       "76     54380\n",
       "69     28530\n",
       "77     23413\n",
       "68     13808\n",
       "78     10220\n",
       "66       818\n",
       "79       575\n",
       "80       227\n",
       "67        45\n",
       "Name: batter_height, dtype: int64"
      ]
     },
     "execution_count": 34,
     "metadata": {},
     "output_type": "execute_result"
    }
   ],
   "source": [
    "pitch_data['batter_height'].value_counts()"
   ]
  },
  {
   "cell_type": "markdown",
   "metadata": {
    "id": "YwYX8lKzD4TE"
   },
   "source": [
    "Converting Pitch Velocity into MPH"
   ]
  },
  {
   "cell_type": "code",
   "execution_count": 35,
   "metadata": {
    "id": "ESmycxPUD74a"
   },
   "outputs": [],
   "source": [
    "pitch_data['prev_pitch_velocity'] = round(-pitch_data['prev_pitch_velocity'] * (3600 / 5280), 0)"
   ]
  },
  {
   "cell_type": "markdown",
   "metadata": {
    "id": "yujnL3cuMjna"
   },
   "source": [
    "Looking at distribution of pitch velocity"
   ]
  },
  {
   "cell_type": "code",
   "execution_count": 36,
   "metadata": {
    "colab": {
     "base_uri": "https://localhost:8080/",
     "height": 430
    },
    "id": "Pe349Q11KAX7",
    "outputId": "74b67982-b985-405f-9e4c-aebb105dc907"
   },
   "outputs": [
    {
     "data": {
      "image/png": "[encoded data removed]",
      "text/plain": [
       "<Figure size 640x480 with 1 Axes>"
      ]
     },
     "metadata": {},
     "output_type": "display_data"
    }
   ],
   "source": [
    "pitch_data['prev_pitch_velocity'].hist()\n",
    "plt.show()"
   ]
  },
  {
   "cell_type": "code",
   "execution_count": 37,
   "metadata": {
    "colab": {
     "base_uri": "https://localhost:8080/"
    },
    "id": "YnOOftU8PIcL",
    "outputId": "c931ec94-3d72-44b6-b24a-112a7b30f661"
   },
   "outputs": [
    {
     "data": {
      "text/plain": [
       "92.0     60917\n",
       "91.0     60438\n",
       "90.0     53430\n",
       "93.0     52507\n",
       "89.0     46247\n",
       "88.0     39665\n",
       "94.0     36822\n",
       "87.0     34467\n",
       "86.0     31245\n",
       "85.0     30284\n",
       "84.0     28897\n",
       "83.0     27228\n",
       "82.0     23980\n",
       "81.0     21513\n",
       "95.0     21402\n",
       "80.0     19320\n",
       "79.0     17109\n",
       "78.0     14526\n",
       "77.0     12211\n",
       "96.0     11444\n",
       "76.0      9841\n",
       "75.0      7565\n",
       "74.0      5549\n",
       "97.0      5515\n",
       "73.0      3816\n",
       "72.0      2716\n",
       "98.0      2326\n",
       "71.0      1789\n",
       "70.0      1339\n",
       "66.0      1158\n",
       "69.0      1079\n",
       "67.0       991\n",
       "68.0       904\n",
       "99.0       840\n",
       "65.0       684\n",
       "100.0      266\n",
       "64.0       217\n",
       "61.0        80\n",
       "63.0        73\n",
       "101.0       65\n",
       "60.0        63\n",
       "62.0        62\n",
       "59.0        37\n",
       "102.0       16\n",
       "58.0        12\n",
       "57.0         6\n",
       "56.0         4\n",
       "55.0         2\n",
       "54.0         2\n",
       "103.0        1\n",
       "45.0         1\n",
       "53.0         1\n",
       "46.0         1\n",
       "Name: prev_pitch_velocity, dtype: int64"
      ]
     },
     "execution_count": 37,
     "metadata": {},
     "output_type": "execute_result"
    }
   ],
   "source": [
    "pitch_data['prev_pitch_velocity'].value_counts()"
   ]
  },
  {
   "cell_type": "markdown",
   "metadata": {
    "id": "ppFW8_OUPq2N"
   },
   "source": [
    "Seeing the distribution of the speed of the pitches I'm going to remove all previous pitch velocities that are under 64 mph. However I'm going to keep all values above that since there are some outliers above the 100 mph mark but they dont differ too much from 100, since the highest pitch was 103 mph."
   ]
  },
  {
   "cell_type": "code",
   "execution_count": 38,
   "metadata": {
    "id": "w7fld-3UQLMo"
   },
   "outputs": [],
   "source": [
    "pitch_data = pitch_data[pitch_data['prev_pitch_velocity'] > 63] "
   ]
  },
  {
   "cell_type": "code",
   "execution_count": 39,
   "metadata": {
    "colab": {
     "base_uri": "https://localhost:8080/"
    },
    "id": "YOaVUtGHQZRL",
    "outputId": "0e10266a-9911-4be1-b75f-7d94d6217c6a"
   },
   "outputs": [
    {
     "data": {
      "text/plain": [
       "(690329, 23)"
      ]
     },
     "execution_count": 39,
     "metadata": {},
     "output_type": "execute_result"
    }
   ],
   "source": [
    "pitch_data.shape"
   ]
  },
  {
   "cell_type": "markdown",
   "metadata": {
    "id": "gkVCHux3KMeM"
   },
   "source": [
    "Filling missing previous pitch velocity with pitcher's mean velocity\n"
   ]
  },
  {
   "cell_type": "code",
   "execution_count": 40,
   "metadata": {
    "id": "cBJUB76BKm8c"
   },
   "outputs": [],
   "source": [
    "pitch_data[\"prev_pitch_velocity\"] = pitch_data.groupby(\"game_pitcher_id\")[\"prev_pitch_velocity\"].transform(lambda x: x.fillna(x.mean()))"
   ]
  },
  {
   "cell_type": "markdown",
   "metadata": {
    "id": "m4-0eufoSYGA"
   },
   "source": [
    "Selecting and organizing final variables of the model"
   ]
  },
  {
   "cell_type": "code",
   "execution_count": 41,
   "metadata": {
    "id": "im36uz1_TN2x"
   },
   "outputs": [],
   "source": [
    "pitch_data = pitch_data[['pitcher_id', 'pitch_type', 'inning', 'top', 'pcount_at_bat', 'pcount_pitcher', \n",
    "             'balls', 'strikes', 'fouls', 'outs', 'on_1b', 'on_2b', 'on_3b', 'month', \n",
    "             'stand_pitch_same_side', 'prev_pitch_type', \n",
    "             'prev_pitch_outcome', 'prev_zone', 'prev_break_length', 'prev_break_angle', \n",
    "             'prev_pitch_velocity', 'batter_height']]"
   ]
  },
  {
   "cell_type": "code",
   "execution_count": 42,
   "metadata": {
    "colab": {
     "base_uri": "https://localhost:8080/"
    },
    "id": "ZC_1XnH_TRU8",
    "outputId": "5b6e3899-707f-435f-cdf9-16ecf96cdb01"
   },
   "outputs": [
    {
     "data": {
      "text/plain": [
       "array(['FB', 'SL', 'CU', 'KC', 'CH', 'KN', 'EP', 'SC'], dtype=object)"
      ]
     },
     "execution_count": 42,
     "metadata": {},
     "output_type": "execute_result"
    }
   ],
   "source": [
    "pitch_data.prev_pitch_type.unique()"
   ]
  },
  {
   "cell_type": "markdown",
   "metadata": {
    "id": "CoLRU_kQBmoR"
   },
   "source": [
    "Looking at new distribution of target variable pitch type"
   ]
  },
  {
   "cell_type": "code",
   "execution_count": 43,
   "metadata": {
    "colab": {
     "base_uri": "https://localhost:8080/",
     "height": 476
    },
    "id": "0OAY89a1BwNB",
    "outputId": "44535fca-fa08-4712-b45f-8252c5d0d59d"
   },
   "outputs": [
    {
     "data": {
      "text/plain": [
       "<Axes: title={'center': 'Bar Chart of Pitch Types'}>"
      ]
     },
     "execution_count": 43,
     "metadata": {},
     "output_type": "execute_result"
    },
    {
     "data": {
      "image/png": "[encoded data removed]",
      "text/plain": [
       "<Figure size 640x480 with 1 Axes>"
      ]
     },
     "metadata": {},
     "output_type": "display_data"
    }
   ],
   "source": [
    "pitchtype_counts = pitch_data['pitch_type'].value_counts()\n",
    "pitchtype_counts.plot(kind='bar', title='Bar Chart of Pitch Types')"
   ]
  },
  {
   "cell_type": "code",
   "execution_count": 44,
   "metadata": {
    "colab": {
     "base_uri": "https://localhost:8080/"
    },
    "id": "tzsjcQXbSoed",
    "outputId": "93be2dac-0b7a-4bea-f704-cb9fa694be81"
   },
   "outputs": [
    {
     "data": {
      "text/plain": [
       "FB    442831\n",
       "SL    107082\n",
       "CH     71989\n",
       "CU     55629\n",
       "KC      8345\n",
       "KN      4204\n",
       "EP       133\n",
       "SC       116\n",
       "Name: pitch_type, dtype: int64"
      ]
     },
     "execution_count": 44,
     "metadata": {},
     "output_type": "execute_result"
    }
   ],
   "source": [
    "pitch_data['pitch_type'].value_counts()"
   ]
  },
  {
   "cell_type": "markdown",
   "metadata": {
    "id": "vDJy2zFbc6zM"
   },
   "source": [
    "Looking at pitch counts for each pitcher"
   ]
  },
  {
   "cell_type": "code",
   "execution_count": 45,
   "metadata": {
    "colab": {
     "base_uri": "https://localhost:8080/"
    },
    "id": "SxHDOJ1Kdr_M",
    "outputId": "7d30674f-6042-45da-cbc7-4c0a2cbb6d3e"
   },
   "outputs": [
    {
     "data": {
      "text/plain": [
       "1042.7930513595165"
      ]
     },
     "execution_count": 45,
     "metadata": {},
     "output_type": "execute_result"
    }
   ],
   "source": [
    "pitch_data['pitcher_id'].value_counts().mean()\n",
    "#the mean of the total pitches for a pitcher is 1042"
   ]
  },
  {
   "cell_type": "code",
   "execution_count": 46,
   "metadata": {
    "colab": {
     "base_uri": "https://localhost:8080/"
    },
    "id": "l2hGprDEeums",
    "outputId": "56fb085f-a66b-40d7-8a2d-2d1728a207c3"
   },
   "outputs": [
    {
     "data": {
      "text/plain": [
       "241.0"
      ]
     },
     "execution_count": 46,
     "metadata": {},
     "output_type": "execute_result"
    }
   ],
   "source": [
    "np.quantile(pitch_data['pitcher_id'].value_counts(), 0.25)\n",
    "#the first quartile of the total pitchers for a pitcher is 241"
   ]
  },
  {
   "cell_type": "markdown",
   "metadata": {
    "id": "5RC2hp2vfcKf"
   },
   "source": [
    "Since the middle between the mean and the first quartile is around 640 for total pitches per pitcher I'm going round this to 600 and use this as the cutoff for the pitchers we will keep in the dataset"
   ]
  },
  {
   "cell_type": "code",
   "execution_count": 47,
   "metadata": {
    "colab": {
     "base_uri": "https://localhost:8080/"
    },
    "id": "fXE7eObXfA8M",
    "outputId": "e0693e91-76d7-4d82-8610-e02aeded3049"
   },
   "outputs": [
    {
     "data": {
      "text/plain": [
       "434378    4234\n",
       "112020    4075\n",
       "450351    4049\n",
       "456034    3736\n",
       "451596    3721\n",
       "450308    3703\n",
       "429717    3701\n",
       "282332    3699\n",
       "448306    3640\n",
       "136880    3640\n",
       "453286    3583\n",
       "453178    3582\n",
       "433587    3562\n",
       "407890    3560\n",
       "502706    3552\n",
       "453311    3537\n",
       "150116    3499\n",
       "543339    3489\n",
       "429719    3476\n",
       "424324    3468\n",
       "450729    3428\n",
       "430912    3428\n",
       "133225    3422\n",
       "477132    3419\n",
       "475416    3384\n",
       "429722    3383\n",
       "461829    3366\n",
       "134321    3344\n",
       "502239    3335\n",
       "457448    3315\n",
       "448802    3312\n",
       "460069    3308\n",
       "451788    3295\n",
       "408206    3289\n",
       "425386    3247\n",
       "434578    3218\n",
       "150359    3218\n",
       "450306    3197\n",
       "430935    3196\n",
       "434622    3195\n",
       "117955    3166\n",
       "451532    3161\n",
       "434671    3154\n",
       "218596    3146\n",
       "452657    3145\n",
       "493133    3143\n",
       "460059    3137\n",
       "490063    3133\n",
       "518516    3131\n",
       "468504    3102\n",
       "279824    3100\n",
       "434643    3083\n",
       "502009    3083\n",
       "445060    3071\n",
       "425844    3071\n",
       "502032    3070\n",
       "453344    3069\n",
       "276520    3031\n",
       "460024    3030\n",
       "285079    3029\n",
       "519144    3025\n",
       "150414    2997\n",
       "346798    2991\n",
       "433584    2960\n",
       "207267    2956\n",
       "277417    2950\n",
       "431162    2948\n",
       "451584    2945\n",
       "425856    2941\n",
       "150404    2941\n",
       "134320    2930\n",
       "457918    2924\n",
       "468396    2918\n",
       "433585    2901\n",
       "425626    2896\n",
       "458709    2891\n",
       "285064    2876\n",
       "457428    2841\n",
       "407793    2806\n",
       "476451    2784\n",
       "429780    2713\n",
       "421685    2687\n",
       "433579    2680\n",
       "450203    2669\n",
       "434628    2653\n",
       "501381    2642\n",
       "467100    2641\n",
       "488846    2617\n",
       "518716    2548\n",
       "115817    2547\n",
       "458690    2538\n",
       "502190    2497\n",
       "136600    2485\n",
       "112526    2482\n",
       "518567    2476\n",
       "502154    2468\n",
       "435221    2448\n",
       "477003    2443\n",
       "458950    2439\n",
       "407296    2411\n",
       "430904    2402\n",
       "519455    2392\n",
       "448147    2365\n",
       "456501    2364\n",
       "543022    2362\n",
       "462956    2351\n",
       "545404    2335\n",
       "457456    2332\n",
       "429781    2324\n",
       "458708    2320\n",
       "150119    2311\n",
       "444371    2296\n",
       "458537    2293\n",
       "434538    2246\n",
       "457453    2231\n",
       "400061    2195\n",
       "123801    2194\n",
       "407853    2193\n",
       "334492    2150\n",
       "474699    2146\n",
       "448694    2126\n",
       "435298    2123\n",
       "462102    2108\n",
       "435044    2092\n",
       "449072    2081\n",
       "456701    2069\n",
       "453562    2064\n",
       "150302    2003\n",
       "446861    1981\n",
       "518633    1933\n",
       "471911    1917\n",
       "450172    1913\n",
       "446399    1889\n",
       "430580    1846\n",
       "400291    1820\n",
       "408241    1810\n",
       "475243    1733\n",
       "456043    1721\n",
       "469686    1699\n",
       "452718    1675\n",
       "453646    1668\n",
       "461872    1646\n",
       "452733    1643\n",
       "457435    1631\n",
       "453385    1602\n",
       "448269    1601\n",
       "462136    1596\n",
       "543475    1546\n",
       "150438    1511\n",
       "488787    1480\n",
       "469134    1466\n",
       "425848    1465\n",
       "475138    1453\n",
       "518444    1450\n",
       "518703    1445\n",
       "346871    1437\n",
       "502188    1423\n",
       "444553    1395\n",
       "461791    1357\n",
       "501985    1340\n",
       "474463    1334\n",
       "453329    1330\n",
       "453281    1303\n",
       "461833    1297\n",
       "477569    1295\n",
       "446099    1270\n",
       "488984    1270\n",
       "461325    1266\n",
       "499856    1252\n",
       "150407    1252\n",
       "446209    1230\n",
       "445216    1225\n",
       "518886    1225\n",
       "407878    1223\n",
       "425883    1212\n",
       "453192    1207\n",
       "458924    1205\n",
       "435043    1192\n",
       "491703    1179\n",
       "462382    1177\n",
       "456696    1175\n",
       "408061    1174\n",
       "435400    1169\n",
       "469159    1157\n",
       "525768    1156\n",
       "434678    1153\n",
       "434592    1150\n",
       "501957    1150\n",
       "239795    1149\n",
       "502085    1139\n",
       "459967    1139\n",
       "407842    1132\n",
       "504379    1129\n",
       "430606    1114\n",
       "502028    1113\n",
       "458006    1108\n",
       "276514    1107\n",
       "452676    1088\n",
       "279571    1087\n",
       "445156    1086\n",
       "543272    1068\n",
       "469802    1060\n",
       "276542    1056\n",
       "543819    1053\n",
       "445197    1051\n",
       "450852    1047\n",
       "457117    1046\n",
       "430884    1045\n",
       "452249    1043\n",
       "454535    1038\n",
       "430630    1033\n",
       "434180    1033\n",
       "519242    1032\n",
       "452741    1029\n",
       "465629    1029\n",
       "447714    1027\n",
       "430673    1025\n",
       "459939    1021\n",
       "434665    1019\n",
       "460701    1019\n",
       "425514    1018\n",
       "453268    1017\n",
       "453343    1016\n",
       "458730    1012\n",
       "150188    1011\n",
       "446641    1010\n",
       "407908    1009\n",
       "124604    1008\n",
       "523989    1008\n",
       "519322    1008\n",
       "477229    1007\n",
       "538227     996\n",
       "430589     982\n",
       "465657     978\n",
       "456102     970\n",
       "451216     969\n",
       "519240     967\n",
       "407819     967\n",
       "506693     966\n",
       "497807     957\n",
       "446321     957\n",
       "543070     954\n",
       "444520     953\n",
       "430629     951\n",
       "474039     947\n",
       "489189     944\n",
       "488674     943\n",
       "434663     940\n",
       "346797     939\n",
       "407822     938\n",
       "448609     938\n",
       "491646     933\n",
       "283166     931\n",
       "449097     931\n",
       "457711     930\n",
       "425492     927\n",
       "501925     925\n",
       "445276     925\n",
       "407825     924\n",
       "488786     924\n",
       "451085     924\n",
       "502264     923\n",
       "110683     921\n",
       "435178     920\n",
       "136734     912\n",
       "455374     912\n",
       "502260     907\n",
       "453307     903\n",
       "435045     901\n",
       "493157     899\n",
       "456051     897\n",
       "453198     897\n",
       "458713     896\n",
       "451775     893\n",
       "434298     891\n",
       "429783     889\n",
       "425861     888\n",
       "518813     885\n",
       "425426     884\n",
       "446185     879\n",
       "346793     879\n",
       "467726     875\n",
       "150118     873\n",
       "502229     869\n",
       "407297     858\n",
       "460366     858\n",
       "119984     858\n",
       "434718     854\n",
       "464400     854\n",
       "150277     852\n",
       "213680     852\n",
       "430634     850\n",
       "346848     849\n",
       "448165     849\n",
       "489150     848\n",
       "461766     846\n",
       "121250     844\n",
       "217096     842\n",
       "491688     840\n",
       "502171     831\n",
       "400010     831\n",
       "434181     830\n",
       "444836     829\n",
       "349193     828\n",
       "460370     827\n",
       "547973     823\n",
       "119154     822\n",
       "407816     821\n",
       "458589     821\n",
       "450282     819\n",
       "518553     818\n",
       "519259     815\n",
       "279782     814\n",
       "446899     811\n",
       "458003     810\n",
       "445163     807\n",
       "425646     805\n",
       "460072     805\n",
       "134268     805\n",
       "502381     800\n",
       "433586     797\n",
       "407911     795\n",
       "150035     794\n",
       "425647     791\n",
       "488751     784\n",
       "457915     763\n",
       "150274     758\n",
       "116414     754\n",
       "115629     746\n",
       "456379     744\n",
       "519186     739\n",
       "429984     731\n",
       "450275     728\n",
       "235095     728\n",
       "275933     725\n",
       "434637     723\n",
       "435538     719\n",
       "453184     719\n",
       "451482     718\n",
       "579799     716\n",
       "462985     716\n",
       "430597     714\n",
       "462522     713\n",
       "276530     710\n",
       "407924     708\n",
       "425657     705\n",
       "542914     696\n",
       "444857     696\n",
       "458681     691\n",
       "599899     685\n",
       "444436     682\n",
       "543634     682\n",
       "425532     662\n",
       "571521     659\n",
       "400089     650\n",
       "493137     649\n",
       "489119     648\n",
       "456027     642\n",
       "453515     640\n",
       "501870     637\n",
       "435618     634\n",
       "446264     630\n",
       "457429     628\n",
       "457732     626\n",
       "408310     624\n",
       "459987     622\n",
       "430083     620\n",
       "539438     612\n",
       "517414     609\n",
       "460677     607\n",
       "489265     593\n",
       "444446     584\n",
       "430599     584\n",
       "445246     581\n",
       "543135     580\n",
       "453265     578\n",
       "407845     578\n",
       "460156     578\n",
       "430900     574\n",
       "445001     574\n",
       "501745     568\n",
       "433657     557\n",
       "136263     555\n",
       "276056     551\n",
       "457786     550\n",
       "150153     542\n",
       "452240     542\n",
       "429901     537\n",
       "519110     536\n",
       "430941     525\n",
       "475115     524\n",
       "518961     520\n",
       "458567     514\n",
       "121125     507\n",
       "453353     498\n",
       "457707     497\n",
       "543766     496\n",
       "150009     494\n",
       "459429     490\n",
       "493337     489\n",
       "276351     486\n",
       "476570     484\n",
       "425539     483\n",
       "452666     482\n",
       "455092     481\n",
       "493416     479\n",
       "434442     471\n",
       "457779     464\n",
       "474668     461\n",
       "444884     461\n",
       "458220     460\n",
       "502102     460\n",
       "502130     458\n",
       "425786     454\n",
       "211041     453\n",
       "500674     448\n",
       "450212     447\n",
       "458919     445\n",
       "461856     442\n",
       "475095     438\n",
       "460597     431\n",
       "445968     430\n",
       "453232     426\n",
       "458676     424\n",
       "457422     422\n",
       "502304     412\n",
       "543805     412\n",
       "472551     407\n",
       "460092     404\n",
       "460283     402\n",
       "451585     400\n",
       "240694     400\n",
       "501955     397\n",
       "543548     396\n",
       "346847     393\n",
       "432934     392\n",
       "457567     387\n",
       "430587     386\n",
       "457733     379\n",
       "430663     373\n",
       "465065     373\n",
       "521230     372\n",
       "430661     371\n",
       "500902     366\n",
       "502166     366\n",
       "456496     365\n",
       "467850     364\n",
       "476601     362\n",
       "449173     357\n",
       "460008     356\n",
       "457425     354\n",
       "476011     352\n",
       "467008     350\n",
       "452737     347\n",
       "527054     345\n",
       "329092     344\n",
       "446290     339\n",
       "459983     337\n",
       "488722     336\n",
       "119125     335\n",
       "469167     334\n",
       "470462     332\n",
       "502083     329\n",
       "592704     327\n",
       "544931     323\n",
       "400058     315\n",
       "434641     315\n",
       "430963     314\n",
       "502136     305\n",
       "518420     299\n",
       "519043     299\n",
       "527055     298\n",
       "500903     298\n",
       "448337     289\n",
       "502046     288\n",
       "502026     287\n",
       "123387     276\n",
       "518715     275\n",
       "456662     273\n",
       "425226     271\n",
       "408057     271\n",
       "458250     264\n",
       "519141     262\n",
       "407193     262\n",
       "503285     259\n",
       "433578     258\n",
       "501993     257\n",
       "449060     256\n",
       "502158     254\n",
       "502165     252\n",
       "460284     247\n",
       "434666     247\n",
       "451990     245\n",
       "461212     244\n",
       "518865     243\n",
       "572070     241\n",
       "543754     241\n",
       "518972     239\n",
       "460657     239\n",
       "545363     238\n",
       "573244     237\n",
       "425747     229\n",
       "444444     228\n",
       "434638     228\n",
       "543409     226\n",
       "455009     223\n",
       "448842     222\n",
       "502139     222\n",
       "447744     220\n",
       "445213     218\n",
       "453580     218\n",
       "518655     217\n",
       "425466     217\n",
       "519267     216\n",
       "543271     213\n",
       "501873     210\n",
       "468528     210\n",
       "477557     209\n",
       "424805     204\n",
       "434669     200\n",
       "460580     200\n",
       "346801     199\n",
       "502748     198\n",
       "430683     198\n",
       "462995     194\n",
       "448178     192\n",
       "453273     192\n",
       "501989     187\n",
       "429985     186\n",
       "444935     183\n",
       "501822     183\n",
       "434958     182\n",
       "451135     181\n",
       "445590     181\n",
       "452764     179\n",
       "518495     179\n",
       "453172     178\n",
       "446003     174\n",
       "502253     174\n",
       "434619     171\n",
       "448753     170\n",
       "467094     164\n",
       "491159     161\n",
       "543136     160\n",
       "448252     160\n",
       "408072     159\n",
       "441368     158\n",
       "449079     157\n",
       "506606     154\n",
       "445926     154\n",
       "518875     152\n",
       "430950     151\n",
       "453186     150\n",
       "457744     150\n",
       "475857     150\n",
       "456776     150\n",
       "501852     149\n",
       "490313     148\n",
       "425656     147\n",
       "469834     146\n",
       "459999     142\n",
       "489334     142\n",
       "488768     140\n",
       "445612     139\n",
       "218894     138\n",
       "444874     137\n",
       "493247     136\n",
       "451650     136\n",
       "523648     135\n",
       "430942     133\n",
       "467099     132\n",
       "434565     131\n",
       "435619     131\n",
       "592665     131\n",
       "542960     128\n",
       "449777     128\n",
       "502609     127\n",
       "234194     123\n",
       "452061     122\n",
       "446398     122\n",
       "451773     122\n",
       "448179     121\n",
       "505447     120\n",
       "400141     120\n",
       "501874     116\n",
       "430641     113\n",
       "462945     113\n",
       "430674     112\n",
       "461848     110\n",
       "450864     109\n",
       "459345     108\n",
       "455949     108\n",
       "448656     107\n",
       "444427     106\n",
       "474029     106\n",
       "503438     102\n",
       "456585     102\n",
       "448857     102\n",
       "445971     101\n",
       "521055     100\n",
       "474599      99\n",
       "447755      98\n",
       "471183      96\n",
       "502208      96\n",
       "502055      95\n",
       "457935      95\n",
       "446248      94\n",
       "501638      93\n",
       "489567      92\n",
       "457761      91\n",
       "454537      89\n",
       "474226      89\n",
       "446372      86\n",
       "534631      85\n",
       "502004      83\n",
       "519105      82\n",
       "463037      81\n",
       "429723      80\n",
       "444354      78\n",
       "489448      77\n",
       "448722      76\n",
       "453249      74\n",
       "476454      69\n",
       "457796      67\n",
       "476127      67\n",
       "459415      64\n",
       "431148      62\n",
       "466459      61\n",
       "465679      59\n",
       "502327      59\n",
       "457812      59\n",
       "457581      52\n",
       "460104      51\n",
       "501687      51\n",
       "453304      49\n",
       "442707      49\n",
       "518603      48\n",
       "460128      41\n",
       "543144      40\n",
       "571666      39\n",
       "450312      37\n",
       "547749      36\n",
       "121096      35\n",
       "458584      33\n",
       "429440      33\n",
       "516969      30\n",
       "456045      25\n",
       "519405      24\n",
       "150021      23\n",
       "444447      22\n",
       "450665      21\n",
       "435401      20\n",
       "503569      19\n",
       "519128      17\n",
       "150212      15\n",
       "430574      15\n",
       "455091      11\n",
       "453454       9\n",
       "407832       9\n",
       "477237       8\n",
       "446341       5\n",
       "430603       4\n",
       "Name: pitcher_id, dtype: int64"
      ]
     },
     "execution_count": 47,
     "metadata": {},
     "output_type": "execute_result"
    }
   ],
   "source": [
    "pitch_data['pitcher_id'].value_counts()"
   ]
  },
  {
   "cell_type": "code",
   "execution_count": 48,
   "metadata": {
    "id": "GutVFtHbXZL6"
   },
   "outputs": [],
   "source": [
    "pitcher_count_dict = dict(Counter(pitch_data['pitcher_id']))"
   ]
  },
  {
   "cell_type": "code",
   "execution_count": 49,
   "metadata": {
    "colab": {
     "base_uri": "https://localhost:8080/"
    },
    "id": "JTMEsJ7dlCLl",
    "outputId": "3683bedc-51fc-416a-e55e-a469bd5750b5"
   },
   "outputs": [
    {
     "data": {
      "text/plain": [
       "662"
      ]
     },
     "execution_count": 49,
     "metadata": {},
     "output_type": "execute_result"
    }
   ],
   "source": [
    "len(pitcher_count_dict)"
   ]
  },
  {
   "cell_type": "markdown",
   "metadata": {
    "id": "eb4YNRiFj_xY"
   },
   "source": [
    "Getting ID's of pitcher's with over 600 or more pitches"
   ]
  },
  {
   "cell_type": "code",
   "execution_count": 50,
   "metadata": {
    "id": "_4wRkPTmi357"
   },
   "outputs": [],
   "source": [
    "pitcher_count_dict = {k:v for k, v in pitcher_count_dict.items() if v > 600}\n",
    "pitcher_list = pitcher_count_dict.keys()"
   ]
  },
  {
   "cell_type": "code",
   "execution_count": 51,
   "metadata": {
    "colab": {
     "base_uri": "https://localhost:8080/"
    },
    "id": "lcwexqxkkLPZ",
    "outputId": "4a80c8f5-661f-4aff-c4cd-efffac2012aa"
   },
   "outputs": [
    {
     "data": {
      "text/plain": [
       "370"
      ]
     },
     "execution_count": 51,
     "metadata": {},
     "output_type": "execute_result"
    }
   ],
   "source": [
    "len(pitcher_count_dict)\n",
    "#292 pitchers were removed from the data"
   ]
  },
  {
   "cell_type": "code",
   "execution_count": 52,
   "metadata": {
    "id": "iYYiPV2O1OGO"
   },
   "outputs": [],
   "source": [
    "pitch_data = pitch_data[pitch_data['pitcher_id'].isin(pitcher_list)]"
   ]
  },
  {
   "cell_type": "code",
   "execution_count": 53,
   "metadata": {
    "colab": {
     "base_uri": "https://localhost:8080/"
    },
    "id": "eENJahnO1f4x",
    "outputId": "056078d4-8891-4456-b62e-fe29f2814416"
   },
   "outputs": [
    {
     "data": {
      "text/plain": [
       "(619160, 22)"
      ]
     },
     "execution_count": 53,
     "metadata": {},
     "output_type": "execute_result"
    }
   ],
   "source": [
    "pitch_data.shape"
   ]
  },
  {
   "cell_type": "code",
   "execution_count": 54,
   "metadata": {
    "colab": {
     "base_uri": "https://localhost:8080/"
    },
    "id": "i7ezdN8oCH0z",
    "outputId": "861824ee-65a9-46e8-a5be-918a8be956d0"
   },
   "outputs": [
    {
     "data": {
      "text/plain": [
       "FB    397709\n",
       "SL     92627\n",
       "CH     65957\n",
       "CU     50650\n",
       "KC      7847\n",
       "KN      4188\n",
       "EP       130\n",
       "SC        52\n",
       "Name: pitch_type, dtype: int64"
      ]
     },
     "execution_count": 54,
     "metadata": {},
     "output_type": "execute_result"
    }
   ],
   "source": [
    "pitch_data.pitch_type.value_counts()"
   ]
  },
  {
   "cell_type": "code",
   "execution_count": 55,
   "metadata": {
    "id": "pqOalr0oGsOQ"
   },
   "outputs": [],
   "source": [
    "remove_pitch_types = ['EP', 'SC']\n",
    "pitch_data = pitch_data[~pitch_data['pitch_type'].isin(remove_pitch_types)]\n",
    "pitch_data = pitch_data[~pitch_data['prev_pitch_type'].isin(remove_pitch_types)]"
   ]
  },
  {
   "cell_type": "code",
   "execution_count": 56,
   "metadata": {
    "colab": {
     "base_uri": "https://localhost:8080/"
    },
    "id": "HLXJt-bGHMVX",
    "outputId": "2eee5b53-a342-4c32-d35e-88d1123a1db5"
   },
   "outputs": [
    {
     "data": {
      "text/plain": [
       "FB    397656\n",
       "SL     92615\n",
       "CH     65951\n",
       "CU     50638\n",
       "KC      7847\n",
       "KN      4169\n",
       "Name: pitch_type, dtype: int64"
      ]
     },
     "execution_count": 56,
     "metadata": {},
     "output_type": "execute_result"
    }
   ],
   "source": [
    "pitch_data.pitch_type.value_counts()"
   ]
  },
  {
   "cell_type": "markdown",
   "metadata": {
    "id": "m3rey_16FPjN"
   },
   "source": [
    "Since there are such little observations of EP and SC I'm going to remove those from the data as well. I'm going to look at this for pitchers as a whole given the time constraint, so when using this particular model the only types of pitches that will be observed for any given pitcher would be FB, SL, CH, CU, KC, and KN"
   ]
  },
  {
   "cell_type": "code",
   "execution_count": 57,
   "metadata": {
    "colab": {
     "base_uri": "https://localhost:8080/"
    },
    "id": "Nq6Dkt4XF1sx",
    "outputId": "ce7402bf-7efb-4ffd-b474-e53b208b6bb8"
   },
   "outputs": [
    {
     "data": {
      "text/plain": [
       "(618876, 22)"
      ]
     },
     "execution_count": 57,
     "metadata": {},
     "output_type": "execute_result"
    }
   ],
   "source": [
    "pitch_data.shape"
   ]
  },
  {
   "cell_type": "markdown",
   "metadata": {
    "id": "9yQhmx-Ql6dI"
   },
   "source": [
    "## **Building Model**"
   ]
  },
  {
   "cell_type": "markdown",
   "metadata": {
    "id": "utH4DyuUo10g"
   },
   "source": [
    "I'm now going to begin the model building process. I plan on using a XGboost model."
   ]
  },
  {
   "cell_type": "code",
   "execution_count": 58,
   "metadata": {
    "colab": {
     "base_uri": "https://localhost:8080/"
    },
    "id": "no7OB8DRbI6d",
    "outputId": "40030088-f681-4b67-ef3e-43681b698bc9"
   },
   "outputs": [
    {
     "data": {
      "text/plain": [
       "Index(['pitcher_id', 'pitch_type', 'inning', 'top', 'pcount_at_bat',\n",
       "       'pcount_pitcher', 'balls', 'strikes', 'fouls', 'outs', 'on_1b', 'on_2b',\n",
       "       'on_3b', 'month', 'stand_pitch_same_side', 'prev_pitch_type',\n",
       "       'prev_pitch_outcome', 'prev_zone', 'prev_break_length',\n",
       "       'prev_break_angle', 'prev_pitch_velocity', 'batter_height'],\n",
       "      dtype='object')"
      ]
     },
     "execution_count": 58,
     "metadata": {},
     "output_type": "execute_result"
    }
   ],
   "source": [
    "pitch_data.columns"
   ]
  },
  {
   "cell_type": "markdown",
   "metadata": {
    "id": "Bw45-RKIbYPI"
   },
   "source": [
    "I'm going to drop the pitcher_id columns since I don't want the model to train on the pitcher"
   ]
  },
  {
   "cell_type": "code",
   "execution_count": 59,
   "metadata": {
    "id": "UbFriKtibd7w"
   },
   "outputs": [],
   "source": [
    "pitch_data = pitch_data.drop('pitcher_id', axis=1)"
   ]
  },
  {
   "cell_type": "code",
   "execution_count": 60,
   "metadata": {
    "colab": {
     "base_uri": "https://localhost:8080/"
    },
    "id": "mXhvbWzxb4RM",
    "outputId": "c2354b62-c3ef-44ae-ef04-79b6a367d8a9"
   },
   "outputs": [
    {
     "data": {
      "text/plain": [
       "Index(['pitch_type', 'inning', 'top', 'pcount_at_bat', 'pcount_pitcher',\n",
       "       'balls', 'strikes', 'fouls', 'outs', 'on_1b', 'on_2b', 'on_3b', 'month',\n",
       "       'stand_pitch_same_side', 'prev_pitch_type', 'prev_pitch_outcome',\n",
       "       'prev_zone', 'prev_break_length', 'prev_break_angle',\n",
       "       'prev_pitch_velocity', 'batter_height'],\n",
       "      dtype='object')"
      ]
     },
     "execution_count": 60,
     "metadata": {},
     "output_type": "execute_result"
    }
   ],
   "source": [
    "pitch_data.columns"
   ]
  },
  {
   "cell_type": "markdown",
   "metadata": {
    "id": "FRZU5DjncUtQ"
   },
   "source": [
    "Starting to build first XGboost model"
   ]
  },
  {
   "cell_type": "code",
   "execution_count": 61,
   "metadata": {
    "id": "bDrbFDpnpGDN"
   },
   "outputs": [],
   "source": [
    "X, y = pitch_data.drop(\"pitch_type\", axis=1), pitch_data[['pitch_type']]\n",
    "\n",
    "# Encode y to numeric\n",
    "y_encoded = OrdinalEncoder().fit_transform(y)\n",
    "\n",
    "# Extract text features\n",
    "cats = X.select_dtypes(exclude=np.number).columns.tolist()\n",
    "\n",
    "# Convert to pd.Categorical\n",
    "for col in cats:\n",
    "   X[col] = X[col].astype('category')\n",
    "\n",
    "# Split the data 70/30\n",
    "X_train, X_test, y_train, y_test = train_test_split(X, y_encoded, random_state=49127, stratify=y_encoded, test_size = .3)"
   ]
  },
  {
   "cell_type": "code",
   "execution_count": 62,
   "metadata": {
    "id": "BycvL1hW2ude"
   },
   "outputs": [],
   "source": [
    "# Create classification matrices\n",
    "dtrain_clf = xgb.DMatrix(X_train,label =  y_train, enable_categorical=True)\n",
    "dtest_clf = xgb.DMatrix(X_test, label = y_test, enable_categorical=True)"
   ]
  },
  {
   "cell_type": "code",
   "execution_count": 63,
   "metadata": {
    "id": "h6PKMw254EUT"
   },
   "outputs": [],
   "source": [
    "#model\n",
    "params = {\"objective\": \"multi:softprob\", \"num_class\": 6}\n",
    "n = 10\n",
    "results = xgb.cv(\n",
    "   params, dtrain_clf,\n",
    "   num_boost_round=n,\n",
    "   nfold=3,\n",
    "   metrics=[\"mlogloss\", \"auc\", \"merror\"],\n",
    ")"
   ]
  },
  {
   "cell_type": "code",
   "execution_count": 64,
   "metadata": {
    "colab": {
     "base_uri": "https://localhost:8080/"
    },
    "id": "3jnQvpazDgD9",
    "outputId": "92948384-669c-44c0-8297-2abf5e28c734"
   },
   "outputs": [
    {
     "data": {
      "text/plain": [
       "0.6724185861093175"
      ]
     },
     "execution_count": 64,
     "metadata": {},
     "output_type": "execute_result"
    }
   ],
   "source": [
    "#getting best iteration from the results\n",
    "best_iteration = results['test-auc-mean'].idxmin()\n",
    "results['test-auc-mean'].max()"
   ]
  },
  {
   "cell_type": "code",
   "execution_count": 65,
   "metadata": {
    "id": "mUrVhjXHVCoO"
   },
   "outputs": [],
   "source": [
    "# Train the model on the entire training dataset\n",
    "model = xgb.train(params=params, dtrain=dtrain_clf, num_boost_round=best_iteration)\n",
    "\n",
    "# Predict the labels of the test dataset\n",
    "predictions = model.predict(dtest_clf)"
   ]
  },
  {
   "cell_type": "code",
   "execution_count": 66,
   "metadata": {
    "colab": {
     "base_uri": "https://localhost:8080/"
    },
    "id": "To94jaqYWQne",
    "outputId": "75cdea5d-4731-4251-8065-62c42c58fb05"
   },
   "outputs": [
    {
     "name": "stdout",
     "output_type": "stream",
     "text": [
      "0.10656404345507721\n"
     ]
    }
   ],
   "source": [
    "best_preds = np.asarray([np.argmax(line) for line in predictions])\n",
    "#print(precision_score(y_test, best_preds, average=\"macro\"))\n",
    "print(accuracy_score(y_test, best_preds))"
   ]
  },
  {
   "cell_type": "markdown",
   "metadata": {
    "id": "wJjNsrL5sIYA"
   },
   "source": [
    "Next instead of using xgb.cv I'm going to attempt using XGBclassifier instead with cross validation"
   ]
  },
  {
   "cell_type": "code",
   "execution_count": 67,
   "metadata": {
    "id": "f3B43VKRsT1l"
   },
   "outputs": [],
   "source": [
    "xgb_params = {\"max_depth\": (2, 3, 5),\n",
    "                      \"learning_rate\": (0.01, 0.1, 0.4)}\n",
    "\n",
    "xgb_opt = GridSearchCV(XGBClassifier(objective='multi:softprob', num_class=6, enable_categorical=True, tree_method=\"hist\"), \n",
    "                               param_grid=xgb_params, cv=5, scoring='accuracy', verbose=0, n_jobs=-1)"
   ]
  },
  {
   "cell_type": "markdown",
   "metadata": {
    "id": "QY-0BmsIsvjg"
   },
   "source": [
    "Fitting the model and making predictions"
   ]
  },
  {
   "cell_type": "code",
   "execution_count": null,
   "metadata": {
    "id": "O-LpFSHpsxiB"
   },
   "outputs": [],
   "source": [
    "xgb_opt.fit(X_train, y_train)"
   ]
  },
  {
   "cell_type": "code",
   "execution_count": 69,
   "metadata": {
    "id": "FzfMWhlI85MX"
   },
   "outputs": [],
   "source": [
    "y_pred = xgb_opt.predict(X_test)\n",
    "y_prob = xgb_opt.predict_proba(X_test)"
   ]
  },
  {
   "cell_type": "code",
   "execution_count": 70,
   "metadata": {
    "colab": {
     "base_uri": "https://localhost:8080/"
    },
    "id": "4GMtCJl79iAn",
    "outputId": "d31bb742-867b-4a9f-962c-3d4c25f845e4"
   },
   "outputs": [
    {
     "data": {
      "text/plain": [
       "0.648718376844067"
      ]
     },
     "execution_count": 70,
     "metadata": {},
     "output_type": "execute_result"
    }
   ],
   "source": [
    "accuracy_score(y_test, y_pred)"
   ]
  },
  {
   "cell_type": "code",
   "execution_count": 71,
   "metadata": {
    "colab": {
     "base_uri": "https://localhost:8080/"
    },
    "id": "i0gYLyZvnv2I",
    "outputId": "b351f1a2-2345-4a95-9f03-e9cbee92a74b"
   },
   "outputs": [
    {
     "data": {
      "text/plain": [
       "0.7718236019296754"
      ]
     },
     "execution_count": 71,
     "metadata": {},
     "output_type": "execute_result"
    }
   ],
   "source": [
    "roc_auc_score(y_test, y_prob, multi_class='ovr')"
   ]
  },
  {
   "cell_type": "markdown",
   "metadata": {
    "id": "unRNWSMf-DC0"
   },
   "source": [
    "## The model using the hist tree method (second model) did a much better job according to the accuracy and auc score when compared to the first model. The first model seems to be underfitting due to the fact it only went through 10 rounds. If I had more time and a gpu ready to use I would have increased the rounds and folds of both models to get more accurate models."
   ]
  },
  {
   "cell_type": "markdown",
   "metadata": {
    "id": "3HEebO4PAODl"
   },
   "source": [
    "## **Next Steps:**"
   ]
  },
  {
   "cell_type": "markdown",
   "metadata": {
    "id": "0a39V8gEBFrB"
   },
   "source": [
    "The next steps for this project would be to actually implement this model with real-time data or you could even make an app that lets you input the predictors to give the probabilities of what the next pitch type would be or even just guess which pitch it would be given the highest probability.\n",
    "\n",
    "If I had more time and resources I would have loved to expanded the model much more. I only used depths of 2,3, and 5 for the second model because any larger depths would have made this code run for a long time. I also wanted to test out the tree method \"gpu_hist\", but unfortunatley I do not have a gpu set up.\n",
    "\n",
    "I also would have loved to create more features such as going back to even more previous pitch types, rather than just the last pitch thrown. Also if there was a weather variable, I would have liked to use that as well. As well as somehow implementing the specified pitcher's pitches to the model in order for the model to know to only look at and make probabilities for the specified pitcher's pitches.\n",
    "\n",
    "Building off this last point I would have liked to do a more fleshed out analysis of the different features instead of just going off prior knowledge of baseball and what I thought would be good predictors of pitch_type. Something I would have like to have done is a feature importance plot or a correlation matrix with all the variables and pitch_type to see which features truly are the best predictors of pitch_type.\n",
    "\n",
    "Another thing I would have liked to have done is to test different models besides XGboost and use even more cross validation folds to see which model and it's hyperparemeters really make the optimal model.\n",
    "\n",
    "Lastly, having the most up to date data would have been nice to see as well, since the game is constantly changing, so having more seasons to train on would be nice to have as well."
   ]
  }
 ],
 "metadata": {
  "colab": {
   "provenance": []
  },
  "kernelspec": {
   "display_name": "Python 3 (ipykernel)",
   "language": "python",
   "name": "python3"
  },
  "language_info": {
   "codemirror_mode": {
    "name": "ipython",
    "version": 3
   },
   "file_extension": ".py",
   "mimetype": "text/x-python",
   "name": "python",
   "nbconvert_exporter": "python",
   "pygments_lexer": "ipython3",
   "version": "3.9.7"
  }
 },
 "nbformat": 4,
 "nbformat_minor": 1
}
